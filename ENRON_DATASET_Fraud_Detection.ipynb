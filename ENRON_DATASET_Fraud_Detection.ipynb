{
 "cells": [
  {
   "cell_type": "markdown",
   "metadata": {},
   "source": [
    "ENRON DATASET - Identificando uma fraude através dos emails e dados financeiros da Enron"
   ]
  },
  {
   "cell_type": "markdown",
   "metadata": {},
   "source": [
    " A empresa Enron era uma empresa americana de energia, commodities e serviços com sede em Houston, Texas, que foi uma das maiores empresas dos Estados Unidos. Em 2002, a empresa entrou em colapso devido à grande quantidade de fraudes corporativas e contábeis. Seu colapso afetou milhares de funcionários e influenciou todo o sistema econômico ocidental.\n",
    " \n",
    " O objetivo deste projeto é usar dados financeiros e de e-mail dos executivos da empresa Enron, que foram liberados pelo governo dos EUA após a investigação efetuada, para chegar a um modelo preditivo que possa identificar pessoas possivelmente envolvidas na fraude. \n",
    "\n"
   ]
  },
  {
   "cell_type": "code",
   "execution_count": 1,
   "metadata": {},
   "outputs": [
    {
     "name": "stderr",
     "output_type": "stream",
     "text": [
      "C:\\Users\\Samsung\\Anaconda3\\lib\\site-packages\\sklearn\\cross_validation.py:41: DeprecationWarning: This module was deprecated in version 0.18 in favor of the model_selection module into which all the refactored classes and functions are moved. Also note that the interface of the new CV iterators are different from that of this module. This module will be removed in 0.20.\n",
      "  \"This module will be removed in 0.20.\", DeprecationWarning)\n"
     ]
    }
   ],
   "source": [
    "#!/usr/bin/python3\n",
    "\n",
    "import sys\n",
    "import pickle\n",
    "sys.path.append(\"../tools/\")\n",
    "\n",
    "from feature_format import featureFormat, targetFeatureSplit\n",
    "from tester import dump_classifier_and_data\n",
    "import matplotlib\n",
    "from matplotlib import pyplot\n",
    "%matplotlib inline\n",
    "import numpy as np\n",
    "import pandas as pd\n",
    "from IPython.display import Image\n",
    "import matplotlib.pyplot as plt\n",
    "\n",
    "\n",
    "### Task 1: Select what features you'll use.\n",
    "### features_list is a list of strings, each of which is a feature name.\n",
    "### The first feature must be \"poi\".\n",
    "features_list = ['poi','salary', 'to_messages', 'deferral_payments', 'total_payments', \n",
    "                 'loan_advances', 'bonus', 'restricted_stock_deferred', \n",
    "                 'deferred_income', 'total_stock_value', 'expenses', 'from_poi_to_this_person', \n",
    "                 'exercised_stock_options', 'from_messages', 'other', 'from_this_person_to_poi', \n",
    "                 'long_term_incentive', 'shared_receipt_with_poi', 'restricted_stock', 'director_fees']\n",
    "\n",
    "### Load the dictionary containing the dataset\n",
    "data_dict = pickle.load(open(\"final_project_dataset.pkl\", \"rb\") )"
   ]
  },
  {
   "cell_type": "code",
   "execution_count": 2,
   "metadata": {},
   "outputs": [
    {
     "name": "stdout",
     "output_type": "stream",
     "text": [
      "Numero de executivos no Dataset: 146\n"
     ]
    }
   ],
   "source": [
    "print ('Numero de executivos no Dataset:', len(data_dict.keys()))\n"
   ]
  },
  {
   "cell_type": "code",
   "execution_count": 3,
   "metadata": {},
   "outputs": [
    {
     "data": {
      "text/plain": [
       "['poi',\n",
       " 'salary',\n",
       " 'to_messages',\n",
       " 'deferral_payments',\n",
       " 'total_payments',\n",
       " 'loan_advances',\n",
       " 'bonus',\n",
       " 'restricted_stock_deferred',\n",
       " 'deferred_income',\n",
       " 'total_stock_value',\n",
       " 'expenses',\n",
       " 'from_poi_to_this_person',\n",
       " 'exercised_stock_options',\n",
       " 'from_messages',\n",
       " 'other',\n",
       " 'from_this_person_to_poi',\n",
       " 'long_term_incentive',\n",
       " 'shared_receipt_with_poi',\n",
       " 'restricted_stock',\n",
       " 'director_fees']"
      ]
     },
     "execution_count": 3,
     "metadata": {},
     "output_type": "execute_result"
    }
   ],
   "source": [
    "features_list"
   ]
  },
  {
   "cell_type": "code",
   "execution_count": 3,
   "metadata": {},
   "outputs": [
    {
     "name": "stdout",
     "output_type": "stream",
     "text": [
      "Numero de pessoas de interesse (POI):  18\n"
     ]
    }
   ],
   "source": [
    "poi = 0\n",
    "for people in data_dict:\n",
    "    if data_dict[people]['poi'] == 1:\n",
    "        poi += 1\n",
    "print (\"Numero de pessoas de interesse (POI): \", poi)"
   ]
  },
  {
   "cell_type": "code",
   "execution_count": 4,
   "metadata": {},
   "outputs": [
    {
     "name": "stdout",
     "output_type": "stream",
     "text": [
      "{'salary': 330546, 'to_messages': 3523, 'deferral_payments': 649584, 'total_payments': 2355702, 'loan_advances': 'NaN', 'bonus': 900000, 'email_address': 'rick.buy@enron.com', 'restricted_stock_deferred': 'NaN', 'deferred_income': -694862, 'total_stock_value': 3444470, 'expenses': 'NaN', 'from_poi_to_this_person': 156, 'exercised_stock_options': 2542813, 'from_messages': 1053, 'other': 400572, 'from_this_person_to_poi': 71, 'poi': False, 'long_term_incentive': 769862, 'shared_receipt_with_poi': 2333, 'restricted_stock': 901657, 'director_fees': 'NaN'}\n"
     ]
    }
   ],
   "source": [
    "print (data_dict['BUY RICHARD B'])"
   ]
  },
  {
   "cell_type": "code",
   "execution_count": 5,
   "metadata": {},
   "outputs": [
    {
     "name": "stdout",
     "output_type": "stream",
     "text": [
      "dict_values([{'salary': 365788, 'to_messages': 807, 'deferral_payments': 'NaN', 'total_payments': 1061827, 'loan_advances': 'NaN', 'bonus': 600000, 'email_address': 'mark.metts@enron.com', 'restricted_stock_deferred': 'NaN', 'deferred_income': 'NaN', 'total_stock_value': 585062, 'expenses': 94299, 'from_poi_to_this_person': 38, 'exercised_stock_options': 'NaN', 'from_messages': 29, 'other': 1740, 'from_this_person_to_poi': 1, 'poi': False, 'long_term_incentive': 'NaN', 'shared_receipt_with_poi': 702, 'restricted_stock': 585062, 'director_fees': 'NaN'}, {'salary': 267102, 'to_messages': 'NaN', 'deferral_payments': 1295738, 'total_payments': 5634343, 'loan_advances': 'NaN', 'bonus': 1200000, 'email_address': 'NaN', 'restricted_stock_deferred': 'NaN', 'deferred_income': -1386055, 'total_stock_value': 10623258, 'expenses': 11200, 'from_poi_to_this_person': 'NaN', 'exercised_stock_options': 6680544, 'from_messages': 'NaN', 'other': 2660303, 'from_this_person_to_poi': 'NaN', 'poi': False, 'long_term_incentive': 1586055, 'shared_receipt_with_poi': 'NaN', 'restricted_stock': 3942714, 'director_fees': 'NaN'}, {'salary': 170941, 'to_messages': 'NaN', 'deferral_payments': 'NaN', 'total_payments': 211725, 'loan_advances': 'NaN', 'bonus': 350000, 'email_address': 'steven.elliott@enron.com', 'restricted_stock_deferred': 'NaN', 'deferred_income': -400729, 'total_stock_value': 6678735, 'expenses': 78552, 'from_poi_to_this_person': 'NaN', 'exercised_stock_options': 4890344, 'from_messages': 'NaN', 'other': 12961, 'from_this_person_to_poi': 'NaN', 'poi': False, 'long_term_incentive': 'NaN', 'shared_receipt_with_poi': 'NaN', 'restricted_stock': 1788391, 'director_fees': 'NaN'}, {'salary': 'NaN', 'to_messages': 764, 'deferral_payments': 'NaN', 'total_payments': 'NaN', 'loan_advances': 'NaN', 'bonus': 'NaN', 'email_address': 'bill.cordes@enron.com', 'restricted_stock_deferred': 'NaN', 'deferred_income': 'NaN', 'total_stock_value': 1038185, 'expenses': 'NaN', 'from_poi_to_this_person': 10, 'exercised_stock_options': 651850, 'from_messages': 12, 'other': 'NaN', 'from_this_person_to_poi': 0, 'poi': False, 'long_term_incentive': 'NaN', 'shared_receipt_with_poi': 58, 'restricted_stock': 386335, 'director_fees': 'NaN'}, {'salary': 243293, 'to_messages': 1045, 'deferral_payments': 'NaN', 'total_payments': 288682, 'loan_advances': 'NaN', 'bonus': 1500000, 'email_address': 'kevin.hannon@enron.com', 'restricted_stock_deferred': 'NaN', 'deferred_income': -3117011, 'total_stock_value': 6391065, 'expenses': 34039, 'from_poi_to_this_person': 32, 'exercised_stock_options': 5538001, 'from_messages': 32, 'other': 11350, 'from_this_person_to_poi': 21, 'poi': True, 'long_term_incentive': 1617011, 'shared_receipt_with_poi': 1035, 'restricted_stock': 853064, 'director_fees': 'NaN'}, {'salary': 267093, 'to_messages': 'NaN', 'deferral_payments': 'NaN', 'total_payments': 628522, 'loan_advances': 'NaN', 'bonus': 325000, 'email_address': 'kristina.mordaunt@enron.com', 'restricted_stock_deferred': 'NaN', 'deferred_income': 'NaN', 'total_stock_value': 208510, 'expenses': 35018, 'from_poi_to_this_person': 'NaN', 'exercised_stock_options': 'NaN', 'from_messages': 'NaN', 'other': 1411, 'from_this_person_to_poi': 'NaN', 'poi': False, 'long_term_incentive': 'NaN', 'shared_receipt_with_poi': 'NaN', 'restricted_stock': 208510, 'director_fees': 'NaN'}, {'salary': 'NaN', 'to_messages': 232, 'deferral_payments': 1848227, 'total_payments': 1848227, 'loan_advances': 'NaN', 'bonus': 'NaN', 'email_address': 'rockford.meyer@enron.com', 'restricted_stock_deferred': 'NaN', 'deferred_income': 'NaN', 'total_stock_value': 955873, 'expenses': 'NaN', 'from_poi_to_this_person': 0, 'exercised_stock_options': 493489, 'from_messages': 28, 'other': 'NaN', 'from_this_person_to_poi': 0, 'poi': False, 'long_term_incentive': 'NaN', 'shared_receipt_with_poi': 22, 'restricted_stock': 462384, 'director_fees': 'NaN'}, {'salary': 370448, 'to_messages': 2355, 'deferral_payments': 'NaN', 'total_payments': 4099771, 'loan_advances': 'NaN', 'bonus': 2600000, 'email_address': 'jeffrey.mcmahon@enron.com', 'restricted_stock_deferred': 'NaN', 'deferred_income': 'NaN', 'total_stock_value': 1662855, 'expenses': 137108, 'from_poi_to_this_person': 58, 'exercised_stock_options': 1104054, 'from_messages': 48, 'other': 297353, 'from_this_person_to_poi': 26, 'poi': False, 'long_term_incentive': 694862, 'shared_receipt_with_poi': 2228, 'restricted_stock': 558801, 'director_fees': 'NaN'}, {'salary': 374125, 'to_messages': 4009, 'deferral_payments': 2157527, 'total_payments': 3859065, 'loan_advances': 'NaN', 'bonus': 1150000, 'email_address': 'mark.haedicke@enron.com', 'restricted_stock_deferred': -329825, 'deferred_income': -934484, 'total_stock_value': 803094, 'expenses': 76169, 'from_poi_to_this_person': 180, 'exercised_stock_options': 608750, 'from_messages': 1941, 'other': 52382, 'from_this_person_to_poi': 61, 'poi': False, 'long_term_incentive': 983346, 'shared_receipt_with_poi': 1847, 'restricted_stock': 524169, 'director_fees': 'NaN'}, {'salary': 197091, 'to_messages': 1238, 'deferral_payments': 1130036, 'total_payments': 1737629, 'loan_advances': 'NaN', 'bonus': 400000, 'email_address': 'greg.piper@enron.com', 'restricted_stock_deferred': -409554, 'deferred_income': -33333, 'total_stock_value': 880290, 'expenses': 43057, 'from_poi_to_this_person': 61, 'exercised_stock_options': 880290, 'from_messages': 222, 'other': 778, 'from_this_person_to_poi': 48, 'poi': False, 'long_term_incentive': 'NaN', 'shared_receipt_with_poi': 742, 'restricted_stock': 409554, 'director_fees': 'NaN'}, {'salary': 130724, 'to_messages': 128, 'deferral_payments': 2964506, 'total_payments': 3100224, 'loan_advances': 'NaN', 'bonus': 'NaN', 'email_address': 'gene.humphrey@enron.com', 'restricted_stock_deferred': 'NaN', 'deferred_income': 'NaN', 'total_stock_value': 2282768, 'expenses': 4994, 'from_poi_to_this_person': 10, 'exercised_stock_options': 2282768, 'from_messages': 17, 'other': 'NaN', 'from_this_person_to_poi': 17, 'poi': False, 'long_term_incentive': 'NaN', 'shared_receipt_with_poi': 119, 'restricted_stock': 'NaN', 'director_fees': 'NaN'}, {'salary': 'NaN', 'to_messages': 'NaN', 'deferral_payments': 774401, 'total_payments': 774401, 'loan_advances': 'NaN', 'bonus': 'NaN', 'email_address': 'NaN', 'restricted_stock_deferred': -94556, 'deferred_income': 'NaN', 'total_stock_value': 368705, 'expenses': 'NaN', 'from_poi_to_this_person': 'NaN', 'exercised_stock_options': 'NaN', 'from_messages': 'NaN', 'other': 'NaN', 'from_this_person_to_poi': 'NaN', 'poi': False, 'long_term_incentive': 'NaN', 'shared_receipt_with_poi': 'NaN', 'restricted_stock': 463261, 'director_fees': 'NaN'}, {'salary': 248546, 'to_messages': 2475, 'deferral_payments': 'NaN', 'total_payments': 2014835, 'loan_advances': 'NaN', 'bonus': 850000, 'email_address': 'jeremy.blachman@enron.com', 'restricted_stock_deferred': 'NaN', 'deferred_income': 'NaN', 'total_stock_value': 954354, 'expenses': 84208, 'from_poi_to_this_person': 25, 'exercised_stock_options': 765313, 'from_messages': 14, 'other': 272, 'from_this_person_to_poi': 2, 'poi': False, 'long_term_incentive': 831809, 'shared_receipt_with_poi': 2326, 'restricted_stock': 189041, 'director_fees': 'NaN'}, {'salary': 257486, 'to_messages': 2647, 'deferral_payments': 'NaN', 'total_payments': 1545059, 'loan_advances': 'NaN', 'bonus': 700000, 'email_address': 'marty.sunde@enron.com', 'restricted_stock_deferred': 'NaN', 'deferred_income': 'NaN', 'total_stock_value': 698920, 'expenses': 'NaN', 'from_poi_to_this_person': 37, 'exercised_stock_options': 'NaN', 'from_messages': 38, 'other': 111122, 'from_this_person_to_poi': 13, 'poi': False, 'long_term_incentive': 476451, 'shared_receipt_with_poi': 2565, 'restricted_stock': 698920, 'director_fees': 'NaN'}, {'salary': 'NaN', 'to_messages': 169, 'deferral_payments': 504610, 'total_payments': 966522, 'loan_advances': 'NaN', 'bonus': 'NaN', 'email_address': 'dana.gibbs@enron.com', 'restricted_stock_deferred': 'NaN', 'deferred_income': 'NaN', 'total_stock_value': 2218275, 'expenses': 'NaN', 'from_poi_to_this_person': 0, 'exercised_stock_options': 2218275, 'from_messages': 12, 'other': 'NaN', 'from_this_person_to_poi': 0, 'poi': False, 'long_term_incentive': 461912, 'shared_receipt_with_poi': 23, 'restricted_stock': 'NaN', 'director_fees': 'NaN'}, {'salary': 'NaN', 'to_messages': 'NaN', 'deferral_payments': 'NaN', 'total_payments': 'NaN', 'loan_advances': 'NaN', 'bonus': 'NaN', 'email_address': 'NaN', 'restricted_stock_deferred': -153686, 'deferred_income': 'NaN', 'total_stock_value': 372205, 'expenses': 'NaN', 'from_poi_to_this_person': 'NaN', 'exercised_stock_options': 372205, 'from_messages': 'NaN', 'other': 'NaN', 'from_this_person_to_poi': 'NaN', 'poi': False, 'long_term_incentive': 'NaN', 'shared_receipt_with_poi': 'NaN', 'restricted_stock': 153686, 'director_fees': 'NaN'}, {'salary': 288542, 'to_messages': 1758, 'deferral_payments': 27610, 'total_payments': 1490344, 'loan_advances': 'NaN', 'bonus': 1200000, 'email_address': 'wes.colwell@enron.com', 'restricted_stock_deferred': 'NaN', 'deferred_income': -144062, 'total_stock_value': 698242, 'expenses': 16514, 'from_poi_to_this_person': 240, 'exercised_stock_options': 'NaN', 'from_messages': 40, 'other': 101740, 'from_this_person_to_poi': 11, 'poi': True, 'long_term_incentive': 'NaN', 'shared_receipt_with_poi': 1132, 'restricted_stock': 698242, 'director_fees': 'NaN'}, {'salary': 251654, 'to_messages': 136, 'deferral_payments': 842924, 'total_payments': 3202070, 'loan_advances': 'NaN', 'bonus': 1100000, 'email_address': 's..muller@enron.com', 'restricted_stock_deferred': 'NaN', 'deferred_income': -719000, 'total_stock_value': 1416848, 'expenses': 'NaN', 'from_poi_to_this_person': 12, 'exercised_stock_options': 1056320, 'from_messages': 16, 'other': 947, 'from_this_person_to_poi': 0, 'poi': False, 'long_term_incentive': 1725545, 'shared_receipt_with_poi': 114, 'restricted_stock': 360528, 'director_fees': 'NaN'}, {'salary': 288558, 'to_messages': 258, 'deferral_payments': 'NaN', 'total_payments': 551174, 'loan_advances': 'NaN', 'bonus': 250000, 'email_address': 'charlene.jackson@enron.com', 'restricted_stock_deferred': 'NaN', 'deferred_income': 'NaN', 'total_stock_value': 725735, 'expenses': 10181, 'from_poi_to_this_person': 25, 'exercised_stock_options': 185063, 'from_messages': 56, 'other': 2435, 'from_this_person_to_poi': 19, 'poi': False, 'long_term_incentive': 'NaN', 'shared_receipt_with_poi': 117, 'restricted_stock': 540672, 'director_fees': 'NaN'}, {'salary': 63744, 'to_messages': 'NaN', 'deferral_payments': 'NaN', 'total_payments': 762135, 'loan_advances': 'NaN', 'bonus': 'NaN', 'email_address': 'dick.westfahl@enron.com', 'restricted_stock_deferred': 'NaN', 'deferred_income': -10800, 'total_stock_value': 384930, 'expenses': 51870, 'from_poi_to_this_person': 'NaN', 'exercised_stock_options': 'NaN', 'from_messages': 'NaN', 'other': 401130, 'from_this_person_to_poi': 'NaN', 'poi': False, 'long_term_incentive': 256191, 'shared_receipt_with_poi': 'NaN', 'restricted_stock': 384930, 'director_fees': 'NaN'}, {'salary': 'NaN', 'to_messages': 'NaN', 'deferral_payments': 53625, 'total_payments': 87410, 'loan_advances': 'NaN', 'bonus': 'NaN', 'email_address': 'NaN', 'restricted_stock_deferred': 'NaN', 'deferred_income': 'NaN', 'total_stock_value': 1030329, 'expenses': 33785, 'from_poi_to_this_person': 'NaN', 'exercised_stock_options': 1030329, 'from_messages': 'NaN', 'other': 'NaN', 'from_this_person_to_poi': 'NaN', 'poi': False, 'long_term_incentive': 'NaN', 'shared_receipt_with_poi': 'NaN', 'restricted_stock': 'NaN', 'director_fees': 'NaN'}, {'salary': 357091, 'to_messages': 671, 'deferral_payments': 'NaN', 'total_payments': 1798780, 'loan_advances': 'NaN', 'bonus': 850000, 'email_address': 'rob.walls@enron.com', 'restricted_stock_deferred': 'NaN', 'deferred_income': 'NaN', 'total_stock_value': 5898997, 'expenses': 50936, 'from_poi_to_this_person': 17, 'exercised_stock_options': 4346544, 'from_messages': 146, 'other': 2, 'from_this_person_to_poi': 0, 'poi': False, 'long_term_incentive': 540751, 'shared_receipt_with_poi': 215, 'restricted_stock': 1552453, 'director_fees': 'NaN'}, {'salary': 271442, 'to_messages': 8305, 'deferral_payments': 'NaN', 'total_payments': 3471141, 'loan_advances': 'NaN', 'bonus': 3100000, 'email_address': 'louise.kitchen@enron.com', 'restricted_stock_deferred': 'NaN', 'deferred_income': 'NaN', 'total_stock_value': 547143, 'expenses': 5774, 'from_poi_to_this_person': 251, 'exercised_stock_options': 81042, 'from_messages': 1728, 'other': 93925, 'from_this_person_to_poi': 194, 'poi': False, 'long_term_incentive': 'NaN', 'shared_receipt_with_poi': 3669, 'restricted_stock': 466101, 'director_fees': 'NaN'}, {'salary': 'NaN', 'to_messages': 'NaN', 'deferral_payments': 'NaN', 'total_payments': 'NaN', 'loan_advances': 'NaN', 'bonus': 'NaN', 'email_address': 'NaN', 'restricted_stock_deferred': -32460, 'deferred_income': -98784, 'total_stock_value': 'NaN', 'expenses': 'NaN', 'from_poi_to_this_person': 'NaN', 'exercised_stock_options': 'NaN', 'from_messages': 'NaN', 'other': 'NaN', 'from_this_person_to_poi': 'NaN', 'poi': False, 'long_term_incentive': 'NaN', 'shared_receipt_with_poi': 'NaN', 'restricted_stock': 32460, 'director_fees': 98784}, {'salary': 'NaN', 'to_messages': 'NaN', 'deferral_payments': -102500, 'total_payments': 102500, 'loan_advances': 'NaN', 'bonus': 'NaN', 'email_address': 'NaN', 'restricted_stock_deferred': 44093, 'deferred_income': 'NaN', 'total_stock_value': -44093, 'expenses': 'NaN', 'from_poi_to_this_person': 'NaN', 'exercised_stock_options': 3285, 'from_messages': 'NaN', 'other': 'NaN', 'from_this_person_to_poi': 'NaN', 'poi': False, 'long_term_incentive': 'NaN', 'shared_receipt_with_poi': 'NaN', 'restricted_stock': 'NaN', 'director_fees': 3285}, {'salary': 304110, 'to_messages': 3221, 'deferral_payments': 'NaN', 'total_payments': 3038702, 'loan_advances': 'NaN', 'bonus': 2000000, 'email_address': 'jeffrey.shankman@enron.com', 'restricted_stock_deferred': 'NaN', 'deferred_income': 'NaN', 'total_stock_value': 2072035, 'expenses': 178979, 'from_poi_to_this_person': 94, 'exercised_stock_options': 1441898, 'from_messages': 2681, 'other': 1191, 'from_this_person_to_poi': 83, 'poi': False, 'long_term_incentive': 554422, 'shared_receipt_with_poi': 1730, 'restricted_stock': 630137, 'director_fees': 'NaN'}, {'salary': 'NaN', 'to_messages': 'NaN', 'deferral_payments': 'NaN', 'total_payments': 189583, 'loan_advances': 'NaN', 'bonus': 'NaN', 'email_address': 'john.wodraska@enron.com', 'restricted_stock_deferred': 'NaN', 'deferred_income': 'NaN', 'total_stock_value': 'NaN', 'expenses': 'NaN', 'from_poi_to_this_person': 'NaN', 'exercised_stock_options': 'NaN', 'from_messages': 'NaN', 'other': 189583, 'from_this_person_to_poi': 'NaN', 'poi': False, 'long_term_incentive': 'NaN', 'shared_receipt_with_poi': 'NaN', 'restricted_stock': 'NaN', 'director_fees': 'NaN'}, {'salary': 187922, 'to_messages': 383, 'deferral_payments': 'NaN', 'total_payments': 618850, 'loan_advances': 'NaN', 'bonus': 250000, 'email_address': 'rick.bergsieker@enron.com', 'restricted_stock_deferred': 'NaN', 'deferred_income': -485813, 'total_stock_value': 659249, 'expenses': 59175, 'from_poi_to_this_person': 4, 'exercised_stock_options': 'NaN', 'from_messages': 59, 'other': 427316, 'from_this_person_to_poi': 0, 'poi': False, 'long_term_incentive': 180250, 'shared_receipt_with_poi': 233, 'restricted_stock': 659249, 'director_fees': 'NaN'}, {'salary': 'NaN', 'to_messages': 'NaN', 'deferral_payments': 'NaN', 'total_payments': 228656, 'loan_advances': 'NaN', 'bonus': 'NaN', 'email_address': 'NaN', 'restricted_stock_deferred': 'NaN', 'deferred_income': -36666, 'total_stock_value': 'NaN', 'expenses': 228656, 'from_poi_to_this_person': 'NaN', 'exercised_stock_options': 'NaN', 'from_messages': 'NaN', 'other': 'NaN', 'from_this_person_to_poi': 'NaN', 'poi': False, 'long_term_incentive': 'NaN', 'shared_receipt_with_poi': 'NaN', 'restricted_stock': 'NaN', 'director_fees': 36666}, {'salary': 213625, 'to_messages': 1607, 'deferral_payments': 'NaN', 'total_payments': 2047593, 'loan_advances': 'NaN', 'bonus': 1000000, 'email_address': 'philippe.bibi@enron.com', 'restricted_stock_deferred': 'NaN', 'deferred_income': 'NaN', 'total_stock_value': 1843816, 'expenses': 38559, 'from_poi_to_this_person': 23, 'exercised_stock_options': 1465734, 'from_messages': 40, 'other': 425688, 'from_this_person_to_poi': 8, 'poi': False, 'long_term_incentive': 369721, 'shared_receipt_with_poi': 1336, 'restricted_stock': 378082, 'director_fees': 'NaN'}, {'salary': 249201, 'to_messages': 1328, 'deferral_payments': 214678, 'total_payments': 1099100, 'loan_advances': 'NaN', 'bonus': 700000, 'email_address': 'paula.rieker@enron.com', 'restricted_stock_deferred': 'NaN', 'deferred_income': -100000, 'total_stock_value': 1918887, 'expenses': 33271, 'from_poi_to_this_person': 35, 'exercised_stock_options': 1635238, 'from_messages': 82, 'other': 1950, 'from_this_person_to_poi': 48, 'poi': True, 'long_term_incentive': 'NaN', 'shared_receipt_with_poi': 1258, 'restricted_stock': 283649, 'director_fees': 'NaN'}, {'salary': 'NaN', 'to_messages': 'NaN', 'deferral_payments': 'NaN', 'total_payments': 'NaN', 'loan_advances': 'NaN', 'bonus': 'NaN', 'email_address': 'NaN', 'restricted_stock_deferred': 'NaN', 'deferred_income': 'NaN', 'total_stock_value': 98718, 'expenses': 'NaN', 'from_poi_to_this_person': 'NaN', 'exercised_stock_options': 98718, 'from_messages': 'NaN', 'other': 'NaN', 'from_this_person_to_poi': 'NaN', 'poi': False, 'long_term_incentive': 'NaN', 'shared_receipt_with_poi': 'NaN', 'restricted_stock': 'NaN', 'director_fees': 'NaN'}, {'salary': 231330, 'to_messages': 7315, 'deferral_payments': 'NaN', 'total_payments': 969068, 'loan_advances': 'NaN', 'bonus': 700000, 'email_address': 'sally.beck@enron.com', 'restricted_stock_deferred': 'NaN', 'deferred_income': 'NaN', 'total_stock_value': 126027, 'expenses': 37172, 'from_poi_to_this_person': 144, 'exercised_stock_options': 'NaN', 'from_messages': 4343, 'other': 566, 'from_this_person_to_poi': 386, 'poi': False, 'long_term_incentive': 'NaN', 'shared_receipt_with_poi': 2639, 'restricted_stock': 126027, 'director_fees': 'NaN'}, {'salary': 'NaN', 'to_messages': 573, 'deferral_payments': 'NaN', 'total_payments': 475, 'loan_advances': 'NaN', 'bonus': 'NaN', 'email_address': 'david.haug@enron.com', 'restricted_stock_deferred': 'NaN', 'deferred_income': 'NaN', 'total_stock_value': 2217299, 'expenses': 475, 'from_poi_to_this_person': 4, 'exercised_stock_options': 'NaN', 'from_messages': 19, 'other': 'NaN', 'from_this_person_to_poi': 7, 'poi': False, 'long_term_incentive': 'NaN', 'shared_receipt_with_poi': 471, 'restricted_stock': 2217299, 'director_fees': 'NaN'}, {'salary': 182245, 'to_messages': 'NaN', 'deferral_payments': 'NaN', 'total_payments': 2692324, 'loan_advances': 'NaN', 'bonus': 200000, 'email_address': 'john.echols@enron.com', 'restricted_stock_deferred': 'NaN', 'deferred_income': 'NaN', 'total_stock_value': 1008941, 'expenses': 21530, 'from_poi_to_this_person': 'NaN', 'exercised_stock_options': 601438, 'from_messages': 'NaN', 'other': 53775, 'from_this_person_to_poi': 'NaN', 'poi': False, 'long_term_incentive': 2234774, 'shared_receipt_with_poi': 'NaN', 'restricted_stock': 407503, 'director_fees': 'NaN'}, {'salary': 'NaN', 'to_messages': 'NaN', 'deferral_payments': 'NaN', 'total_payments': 148, 'loan_advances': 'NaN', 'bonus': 'NaN', 'email_address': 'NaN', 'restricted_stock_deferred': 'NaN', 'deferred_income': -103750, 'total_stock_value': 'NaN', 'expenses': 148, 'from_poi_to_this_person': 'NaN', 'exercised_stock_options': 'NaN', 'from_messages': 'NaN', 'other': 'NaN', 'from_this_person_to_poi': 'NaN', 'poi': False, 'long_term_incentive': 'NaN', 'shared_receipt_with_poi': 'NaN', 'restricted_stock': 'NaN', 'director_fees': 103750}, {'salary': 211788, 'to_messages': 1320, 'deferral_payments': 'NaN', 'total_payments': 2081796, 'loan_advances': 'NaN', 'bonus': 1700000, 'email_address': 'gary.hickerson@enron.com', 'restricted_stock_deferred': 'NaN', 'deferred_income': 'NaN', 'total_stock_value': 441096, 'expenses': 98849, 'from_poi_to_this_person': 40, 'exercised_stock_options': 'NaN', 'from_messages': 27, 'other': 1936, 'from_this_person_to_poi': 1, 'poi': False, 'long_term_incentive': 69223, 'shared_receipt_with_poi': 900, 'restricted_stock': 441096, 'director_fees': 'NaN'}, {'salary': 'NaN', 'to_messages': 'NaN', 'deferral_payments': 'NaN', 'total_payments': 'NaN', 'loan_advances': 'NaN', 'bonus': 'NaN', 'email_address': 'NaN', 'restricted_stock_deferred': -472568, 'deferred_income': 'NaN', 'total_stock_value': 189518, 'expenses': 'NaN', 'from_poi_to_this_person': 'NaN', 'exercised_stock_options': 'NaN', 'from_messages': 'NaN', 'other': 'NaN', 'from_this_person_to_poi': 'NaN', 'poi': False, 'long_term_incentive': 'NaN', 'shared_receipt_with_poi': 'NaN', 'restricted_stock': 662086, 'director_fees': 'NaN'}, {'salary': 'NaN', 'to_messages': 952, 'deferral_payments': 'NaN', 'total_payments': 'NaN', 'loan_advances': 'NaN', 'bonus': 'NaN', 'email_address': 'richard.lewis@enron.com', 'restricted_stock_deferred': 'NaN', 'deferred_income': 'NaN', 'total_stock_value': 850477, 'expenses': 'NaN', 'from_poi_to_this_person': 10, 'exercised_stock_options': 850477, 'from_messages': 26, 'other': 'NaN', 'from_this_person_to_poi': 0, 'poi': False, 'long_term_incentive': 'NaN', 'shared_receipt_with_poi': 739, 'restricted_stock': 'NaN', 'director_fees': 'NaN'}, {'salary': 'NaN', 'to_messages': 504, 'deferral_payments': 7961, 'total_payments': 7961, 'loan_advances': 'NaN', 'bonus': 'NaN', 'email_address': 'robert.hayes@enron.com', 'restricted_stock_deferred': 'NaN', 'deferred_income': 'NaN', 'total_stock_value': 151418, 'expenses': 'NaN', 'from_poi_to_this_person': 16, 'exercised_stock_options': 'NaN', 'from_messages': 12, 'other': 'NaN', 'from_this_person_to_poi': 0, 'poi': False, 'long_term_incentive': 'NaN', 'shared_receipt_with_poi': 50, 'restricted_stock': 151418, 'director_fees': 'NaN'}, {'salary': 224305, 'to_messages': 'NaN', 'deferral_payments': 'NaN', 'total_payments': 2652612, 'loan_advances': 'NaN', 'bonus': 800000, 'email_address': 'michael.kopper@enron.com', 'restricted_stock_deferred': 'NaN', 'deferred_income': 'NaN', 'total_stock_value': 985032, 'expenses': 118134, 'from_poi_to_this_person': 'NaN', 'exercised_stock_options': 'NaN', 'from_messages': 'NaN', 'other': 907502, 'from_this_person_to_poi': 'NaN', 'poi': True, 'long_term_incentive': 602671, 'shared_receipt_with_poi': 'NaN', 'restricted_stock': 985032, 'director_fees': 'NaN'}, {'salary': 273746, 'to_messages': 2822, 'deferral_payments': 'NaN', 'total_payments': 2664228, 'loan_advances': 'NaN', 'bonus': 1000000, 'email_address': 'dan.leff@enron.com', 'restricted_stock_deferred': 'NaN', 'deferred_income': 'NaN', 'total_stock_value': 360528, 'expenses': 'NaN', 'from_poi_to_this_person': 67, 'exercised_stock_options': 'NaN', 'from_messages': 63, 'other': 3083, 'from_this_person_to_poi': 14, 'poi': False, 'long_term_incentive': 1387399, 'shared_receipt_with_poi': 2672, 'restricted_stock': 360528, 'director_fees': 'NaN'}, {'salary': 339288, 'to_messages': 7259, 'deferral_payments': 'NaN', 'total_payments': 10425757, 'loan_advances': 'NaN', 'bonus': 8000000, 'email_address': 'john.lavorato@enron.com', 'restricted_stock_deferred': 'NaN', 'deferred_income': 'NaN', 'total_stock_value': 5167144, 'expenses': 49537, 'from_poi_to_this_person': 528, 'exercised_stock_options': 4158995, 'from_messages': 2585, 'other': 1552, 'from_this_person_to_poi': 411, 'poi': False, 'long_term_incentive': 2035380, 'shared_receipt_with_poi': 3962, 'restricted_stock': 1008149, 'director_fees': 'NaN'}, {'salary': 216582, 'to_messages': 'NaN', 'deferral_payments': 'NaN', 'total_payments': 228474, 'loan_advances': 'NaN', 'bonus': 'NaN', 'email_address': 'david.berberian@enron.com', 'restricted_stock_deferred': 'NaN', 'deferred_income': 'NaN', 'total_stock_value': 2493616, 'expenses': 11892, 'from_poi_to_this_person': 'NaN', 'exercised_stock_options': 1624396, 'from_messages': 'NaN', 'other': 'NaN', 'from_this_person_to_poi': 'NaN', 'poi': False, 'long_term_incentive': 'NaN', 'shared_receipt_with_poi': 'NaN', 'restricted_stock': 869220, 'director_fees': 'NaN'}, {'salary': 210500, 'to_messages': 'NaN', 'deferral_payments': 875307, 'total_payments': 1204583, 'loan_advances': 'NaN', 'bonus': 425000, 'email_address': 'timothy.detmering@enron.com', 'restricted_stock_deferred': -315068, 'deferred_income': -775241, 'total_stock_value': 2027865, 'expenses': 52255, 'from_poi_to_this_person': 'NaN', 'exercised_stock_options': 2027865, 'from_messages': 'NaN', 'other': 1105, 'from_this_person_to_poi': 'NaN', 'poi': False, 'long_term_incentive': 415657, 'shared_receipt_with_poi': 'NaN', 'restricted_stock': 315068, 'director_fees': 'NaN'}, {'salary': 'NaN', 'to_messages': 'NaN', 'deferral_payments': 'NaN', 'total_payments': 213071, 'loan_advances': 'NaN', 'bonus': 'NaN', 'email_address': 'NaN', 'restricted_stock_deferred': 'NaN', 'deferred_income': 'NaN', 'total_stock_value': 'NaN', 'expenses': 103773, 'from_poi_to_this_person': 'NaN', 'exercised_stock_options': 'NaN', 'from_messages': 'NaN', 'other': 'NaN', 'from_this_person_to_poi': 'NaN', 'poi': False, 'long_term_incentive': 'NaN', 'shared_receipt_with_poi': 'NaN', 'restricted_stock': 'NaN', 'director_fees': 109298}, {'salary': 'NaN', 'to_messages': 653, 'deferral_payments': 'NaN', 'total_payments': 'NaN', 'loan_advances': 'NaN', 'bonus': 'NaN', 'email_address': 'ken.powers@enron.com', 'restricted_stock_deferred': 'NaN', 'deferred_income': -17500, 'total_stock_value': 'NaN', 'expenses': 'NaN', 'from_poi_to_this_person': 0, 'exercised_stock_options': 'NaN', 'from_messages': 26, 'other': 'NaN', 'from_this_person_to_poi': 0, 'poi': False, 'long_term_incentive': 'NaN', 'shared_receipt_with_poi': 12, 'restricted_stock': 'NaN', 'director_fees': 17500}, {'salary': 272880, 'to_messages': 'NaN', 'deferral_payments': 'NaN', 'total_payments': 2146973, 'loan_advances': 'NaN', 'bonus': 750000, 'email_address': 'joe.gold@enron.com', 'restricted_stock_deferred': 'NaN', 'deferred_income': 'NaN', 'total_stock_value': 877611, 'expenses': 'NaN', 'from_poi_to_this_person': 'NaN', 'exercised_stock_options': 436515, 'from_messages': 'NaN', 'other': 819288, 'from_this_person_to_poi': 'NaN', 'poi': False, 'long_term_incentive': 304805, 'shared_receipt_with_poi': 'NaN', 'restricted_stock': 441096, 'director_fees': 'NaN'}, {'salary': 477, 'to_messages': 566, 'deferral_payments': 'NaN', 'total_payments': 916197, 'loan_advances': 'NaN', 'bonus': 'NaN', 'email_address': 'james.bannantine@enron.com', 'restricted_stock_deferred': -560222, 'deferred_income': -5104, 'total_stock_value': 5243487, 'expenses': 56301, 'from_poi_to_this_person': 39, 'exercised_stock_options': 4046157, 'from_messages': 29, 'other': 864523, 'from_this_person_to_poi': 0, 'poi': False, 'long_term_incentive': 'NaN', 'shared_receipt_with_poi': 465, 'restricted_stock': 1757552, 'director_fees': 'NaN'}, {'salary': 'NaN', 'to_messages': 'NaN', 'deferral_payments': 'NaN', 'total_payments': 77492, 'loan_advances': 'NaN', 'bonus': 'NaN', 'email_address': 'NaN', 'restricted_stock_deferred': 'NaN', 'deferred_income': -25000, 'total_stock_value': 371750, 'expenses': 'NaN', 'from_poi_to_this_person': 'NaN', 'exercised_stock_options': 371750, 'from_messages': 'NaN', 'other': 'NaN', 'from_this_person_to_poi': 'NaN', 'poi': False, 'long_term_incentive': 'NaN', 'shared_receipt_with_poi': 'NaN', 'restricted_stock': 'NaN', 'director_fees': 102492}, {'salary': 269076, 'to_messages': 15149, 'deferral_payments': 'NaN', 'total_payments': 1057548, 'loan_advances': 'NaN', 'bonus': 650000, 'email_address': 'richard.shapiro@enron.com', 'restricted_stock_deferred': 'NaN', 'deferred_income': 'NaN', 'total_stock_value': 987001, 'expenses': 137767, 'from_poi_to_this_person': 74, 'exercised_stock_options': 607837, 'from_messages': 1215, 'other': 705, 'from_this_person_to_poi': 65, 'poi': False, 'long_term_incentive': 'NaN', 'shared_receipt_with_poi': 4527, 'restricted_stock': 379164, 'director_fees': 'NaN'}, {'salary': 428780, 'to_messages': 3187, 'deferral_payments': 'NaN', 'total_payments': 4335388, 'loan_advances': 'NaN', 'bonus': 1500000, 'email_address': 'john.sherriff@enron.com', 'restricted_stock_deferred': 'NaN', 'deferred_income': 'NaN', 'total_stock_value': 3128982, 'expenses': 'NaN', 'from_poi_to_this_person': 28, 'exercised_stock_options': 1835558, 'from_messages': 92, 'other': 1852186, 'from_this_person_to_poi': 23, 'poi': False, 'long_term_incentive': 554422, 'shared_receipt_with_poi': 2103, 'restricted_stock': 1293424, 'director_fees': 'NaN'}, {'salary': 211844, 'to_messages': 225, 'deferral_payments': 'NaN', 'total_payments': 2003885, 'loan_advances': 'NaN', 'bonus': 200000, 'email_address': 'rex.shelby@enron.com', 'restricted_stock_deferred': 'NaN', 'deferred_income': -4167, 'total_stock_value': 2493616, 'expenses': 22884, 'from_poi_to_this_person': 13, 'exercised_stock_options': 1624396, 'from_messages': 39, 'other': 1573324, 'from_this_person_to_poi': 14, 'poi': True, 'long_term_incentive': 'NaN', 'shared_receipt_with_poi': 91, 'restricted_stock': 869220, 'director_fees': 'NaN'}, {'salary': 'NaN', 'to_messages': 'NaN', 'deferral_payments': 'NaN', 'total_payments': 87492, 'loan_advances': 'NaN', 'bonus': 'NaN', 'email_address': 'NaN', 'restricted_stock_deferred': 'NaN', 'deferred_income': -25000, 'total_stock_value': 412878, 'expenses': 'NaN', 'from_poi_to_this_person': 'NaN', 'exercised_stock_options': 412878, 'from_messages': 'NaN', 'other': 'NaN', 'from_this_person_to_poi': 'NaN', 'poi': False, 'long_term_incentive': 'NaN', 'shared_receipt_with_poi': 'NaN', 'restricted_stock': 'NaN', 'director_fees': 112492}, {'salary': 206121, 'to_messages': 714, 'deferral_payments': 'NaN', 'total_payments': 1208649, 'loan_advances': 'NaN', 'bonus': 600000, 'email_address': 'joseph.deffner@enron.com', 'restricted_stock_deferred': 'NaN', 'deferred_income': 'NaN', 'total_stock_value': 159211, 'expenses': 41626, 'from_poi_to_this_person': 115, 'exercised_stock_options': 17378, 'from_messages': 74, 'other': 25553, 'from_this_person_to_poi': 4, 'poi': False, 'long_term_incentive': 335349, 'shared_receipt_with_poi': 552, 'restricted_stock': 141833, 'director_fees': 'NaN'}, {'salary': 174246, 'to_messages': 'NaN', 'deferral_payments': 'NaN', 'total_payments': 704896, 'loan_advances': 'NaN', 'bonus': 'NaN', 'email_address': 'joe.kishkill@enron.com', 'restricted_stock_deferred': 'NaN', 'deferred_income': -51042, 'total_stock_value': 1034346, 'expenses': 116335, 'from_poi_to_this_person': 'NaN', 'exercised_stock_options': 'NaN', 'from_messages': 'NaN', 'other': 465357, 'from_this_person_to_poi': 'NaN', 'poi': False, 'long_term_incentive': 'NaN', 'shared_receipt_with_poi': 'NaN', 'restricted_stock': 1034346, 'director_fees': 'NaN'}, {'salary': 510364, 'to_messages': 6019, 'deferral_payments': 'NaN', 'total_payments': 4677574, 'loan_advances': 'NaN', 'bonus': 3000000, 'email_address': 'greg.whalley@enron.com', 'restricted_stock_deferred': 'NaN', 'deferred_income': 'NaN', 'total_stock_value': 6079137, 'expenses': 57838, 'from_poi_to_this_person': 186, 'exercised_stock_options': 3282960, 'from_messages': 556, 'other': 301026, 'from_this_person_to_poi': 24, 'poi': False, 'long_term_incentive': 808346, 'shared_receipt_with_poi': 3920, 'restricted_stock': 2796177, 'director_fees': 'NaN'}, {'salary': 365038, 'to_messages': 3329, 'deferral_payments': 'NaN', 'total_payments': 2101364, 'loan_advances': 'NaN', 'bonus': 1100000, 'email_address': 'mike.mcconnell@enron.com', 'restricted_stock_deferred': 'NaN', 'deferred_income': 'NaN', 'total_stock_value': 3101279, 'expenses': 81364, 'from_poi_to_this_person': 92, 'exercised_stock_options': 1623010, 'from_messages': 2742, 'other': 540, 'from_this_person_to_poi': 194, 'poi': False, 'long_term_incentive': 554422, 'shared_receipt_with_poi': 2189, 'restricted_stock': 1478269, 'director_fees': 'NaN'}, {'salary': 'NaN', 'to_messages': 58, 'deferral_payments': 'NaN', 'total_payments': 'NaN', 'loan_advances': 'NaN', 'bonus': 'NaN', 'email_address': 'jim.piro@enron.com', 'restricted_stock_deferred': 'NaN', 'deferred_income': 'NaN', 'total_stock_value': 47304, 'expenses': 'NaN', 'from_poi_to_this_person': 0, 'exercised_stock_options': 'NaN', 'from_messages': 16, 'other': 'NaN', 'from_this_person_to_poi': 1, 'poi': False, 'long_term_incentive': 'NaN', 'shared_receipt_with_poi': 3, 'restricted_stock': 47304, 'director_fees': 'NaN'}, {'salary': 365163, 'to_messages': 3093, 'deferral_payments': 'NaN', 'total_payments': 4747979, 'loan_advances': 'NaN', 'bonus': 3000000, 'email_address': 'david.delainey@enron.com', 'restricted_stock_deferred': 'NaN', 'deferred_income': 'NaN', 'total_stock_value': 3614261, 'expenses': 86174, 'from_poi_to_this_person': 66, 'exercised_stock_options': 2291113, 'from_messages': 3069, 'other': 1661, 'from_this_person_to_poi': 609, 'poi': True, 'long_term_incentive': 1294981, 'shared_receipt_with_poi': 2097, 'restricted_stock': 1323148, 'director_fees': 'NaN'}, {'salary': 162779, 'to_messages': 'NaN', 'deferral_payments': 181993, 'total_payments': 999356, 'loan_advances': 'NaN', 'bonus': 100000, 'email_address': 'NaN', 'restricted_stock_deferred': 'NaN', 'deferred_income': 'NaN', 'total_stock_value': 1362375, 'expenses': 'NaN', 'from_poi_to_this_person': 'NaN', 'exercised_stock_options': 1362375, 'from_messages': 'NaN', 'other': 162, 'from_this_person_to_poi': 'NaN', 'poi': False, 'long_term_incentive': 554422, 'shared_receipt_with_poi': 'NaN', 'restricted_stock': 'NaN', 'director_fees': 'NaN'}, {'salary': 'NaN', 'to_messages': 'NaN', 'deferral_payments': 'NaN', 'total_payments': 'NaN', 'loan_advances': 'NaN', 'bonus': 'NaN', 'email_address': 'NaN', 'restricted_stock_deferred': 'NaN', 'deferred_income': 'NaN', 'total_stock_value': 139130, 'expenses': 'NaN', 'from_poi_to_this_person': 'NaN', 'exercised_stock_options': 139130, 'from_messages': 'NaN', 'other': 'NaN', 'from_this_person_to_poi': 'NaN', 'poi': False, 'long_term_incentive': 'NaN', 'shared_receipt_with_poi': 'NaN', 'restricted_stock': 'NaN', 'director_fees': 'NaN'}, {'salary': 236457, 'to_messages': 'NaN', 'deferral_payments': 204075, 'total_payments': 875889, 'loan_advances': 'NaN', 'bonus': 200000, 'email_address': 'tod.lindholm@enron.com', 'restricted_stock_deferred': 'NaN', 'deferred_income': 'NaN', 'total_stock_value': 3064208, 'expenses': 57727, 'from_poi_to_this_person': 'NaN', 'exercised_stock_options': 2549361, 'from_messages': 'NaN', 'other': 2630, 'from_this_person_to_poi': 'NaN', 'poi': False, 'long_term_incentive': 175000, 'shared_receipt_with_poi': 'NaN', 'restricted_stock': 514847, 'director_fees': 'NaN'}, {'salary': 'NaN', 'to_messages': 'NaN', 'deferral_payments': 'NaN', 'total_payments': 2151, 'loan_advances': 'NaN', 'bonus': 'NaN', 'email_address': 'NaN', 'restricted_stock_deferred': 'NaN', 'deferred_income': -38346, 'total_stock_value': 'NaN', 'expenses': 2151, 'from_poi_to_this_person': 'NaN', 'exercised_stock_options': 'NaN', 'from_messages': 'NaN', 'other': 'NaN', 'from_this_person_to_poi': 'NaN', 'poi': False, 'long_term_incentive': 'NaN', 'shared_receipt_with_poi': 'NaN', 'restricted_stock': 'NaN', 'director_fees': 38346}, {'salary': 1072321, 'to_messages': 4273, 'deferral_payments': 202911, 'total_payments': 103559793, 'loan_advances': 81525000, 'bonus': 7000000, 'email_address': 'kenneth.lay@enron.com', 'restricted_stock_deferred': 'NaN', 'deferred_income': -300000, 'total_stock_value': 49110078, 'expenses': 99832, 'from_poi_to_this_person': 123, 'exercised_stock_options': 34348384, 'from_messages': 36, 'other': 10359729, 'from_this_person_to_poi': 16, 'poi': True, 'long_term_incentive': 3600000, 'shared_receipt_with_poi': 2411, 'restricted_stock': 14761694, 'director_fees': 'NaN'}, {'salary': 261516, 'to_messages': 'NaN', 'deferral_payments': 'NaN', 'total_payments': 1271582, 'loan_advances': 'NaN', 'bonus': 750000, 'email_address': 'bob.butts@enron.com', 'restricted_stock_deferred': 'NaN', 'deferred_income': -75000, 'total_stock_value': 417619, 'expenses': 9410, 'from_poi_to_this_person': 'NaN', 'exercised_stock_options': 'NaN', 'from_messages': 'NaN', 'other': 150656, 'from_this_person_to_poi': 'NaN', 'poi': False, 'long_term_incentive': 175000, 'shared_receipt_with_poi': 'NaN', 'restricted_stock': 417619, 'director_fees': 'NaN'}, {'salary': 329078, 'to_messages': 1184, 'deferral_payments': 77716, 'total_payments': 1321557, 'loan_advances': 'NaN', 'bonus': 750000, 'email_address': 'cindy.olson@enron.com', 'restricted_stock_deferred': 'NaN', 'deferred_income': 'NaN', 'total_stock_value': 2606763, 'expenses': 63791, 'from_poi_to_this_person': 20, 'exercised_stock_options': 1637034, 'from_messages': 52, 'other': 972, 'from_this_person_to_poi': 15, 'poi': False, 'long_term_incentive': 100000, 'shared_receipt_with_poi': 856, 'restricted_stock': 969729, 'director_fees': 'NaN'}, {'salary': 'NaN', 'to_messages': 894, 'deferral_payments': 'NaN', 'total_payments': 'NaN', 'loan_advances': 'NaN', 'bonus': 'NaN', 'email_address': 'rebecca.mcdonald@enron.com', 'restricted_stock_deferred': 'NaN', 'deferred_income': 'NaN', 'total_stock_value': 1691366, 'expenses': 'NaN', 'from_poi_to_this_person': 54, 'exercised_stock_options': 757301, 'from_messages': 13, 'other': 'NaN', 'from_this_person_to_poi': 1, 'poi': False, 'long_term_incentive': 'NaN', 'shared_receipt_with_poi': 720, 'restricted_stock': 934065, 'director_fees': 'NaN'}, {'salary': 184899, 'to_messages': 'NaN', 'deferral_payments': 'NaN', 'total_payments': 807956, 'loan_advances': 'NaN', 'bonus': 325000, 'email_address': 'NaN', 'restricted_stock_deferred': 'NaN', 'deferred_income': 'NaN', 'total_stock_value': 207940, 'expenses': 22344, 'from_poi_to_this_person': 'NaN', 'exercised_stock_options': 'NaN', 'from_messages': 'NaN', 'other': 713, 'from_this_person_to_poi': 'NaN', 'poi': False, 'long_term_incentive': 275000, 'shared_receipt_with_poi': 'NaN', 'restricted_stock': 207940, 'director_fees': 'NaN'}, {'salary': 192008, 'to_messages': 'NaN', 'deferral_payments': 73122, 'total_payments': 900585, 'loan_advances': 'NaN', 'bonus': 509870, 'email_address': 'NaN', 'restricted_stock_deferred': 'NaN', 'deferred_income': -1042, 'total_stock_value': 318607, 'expenses': 50080, 'from_poi_to_this_person': 'NaN', 'exercised_stock_options': 83237, 'from_messages': 'NaN', 'other': 76547, 'from_this_person_to_poi': 'NaN', 'poi': False, 'long_term_incentive': 'NaN', 'shared_receipt_with_poi': 'NaN', 'restricted_stock': 235370, 'director_fees': 'NaN'}, {'salary': 'NaN', 'to_messages': 'NaN', 'deferral_payments': 178980, 'total_payments': 182466, 'loan_advances': 'NaN', 'bonus': 'NaN', 'email_address': 'NaN', 'restricted_stock_deferred': 'NaN', 'deferred_income': 'NaN', 'total_stock_value': 257817, 'expenses': 3486, 'from_poi_to_this_person': 'NaN', 'exercised_stock_options': 257817, 'from_messages': 'NaN', 'other': 'NaN', 'from_this_person_to_poi': 'NaN', 'poi': False, 'long_term_incentive': 'NaN', 'shared_receipt_with_poi': 'NaN', 'restricted_stock': 'NaN', 'director_fees': 'NaN'}, {'salary': 262663, 'to_messages': 'NaN', 'deferral_payments': 'NaN', 'total_payments': 1297461, 'loan_advances': 'NaN', 'bonus': 700000, 'email_address': 'robert.hermann@enron.com', 'restricted_stock_deferred': 'NaN', 'deferred_income': -280000, 'total_stock_value': 668132, 'expenses': 48357, 'from_poi_to_this_person': 'NaN', 'exercised_stock_options': 187500, 'from_messages': 'NaN', 'other': 416441, 'from_this_person_to_poi': 'NaN', 'poi': False, 'long_term_incentive': 150000, 'shared_receipt_with_poi': 'NaN', 'restricted_stock': 480632, 'director_fees': 'NaN'}, {'salary': 304588, 'to_messages': 1755, 'deferral_payments': 'NaN', 'total_payments': 3676340, 'loan_advances': 'NaN', 'bonus': 2500000, 'email_address': 'jim.fallon@enron.com', 'restricted_stock_deferred': 'NaN', 'deferred_income': 'NaN', 'total_stock_value': 2332399, 'expenses': 95924, 'from_poi_to_this_person': 42, 'exercised_stock_options': 940257, 'from_messages': 75, 'other': 401481, 'from_this_person_to_poi': 37, 'poi': False, 'long_term_incentive': 374347, 'shared_receipt_with_poi': 1604, 'restricted_stock': 1392142, 'director_fees': 'NaN'}, {'salary': 'NaN', 'to_messages': 'NaN', 'deferral_payments': 'NaN', 'total_payments': 'NaN', 'loan_advances': 'NaN', 'bonus': 'NaN', 'email_address': 'NaN', 'restricted_stock_deferred': -72419, 'deferred_income': 'NaN', 'total_stock_value': 1945360, 'expenses': 'NaN', 'from_poi_to_this_person': 'NaN', 'exercised_stock_options': 1753766, 'from_messages': 'NaN', 'other': 'NaN', 'from_this_person_to_poi': 'NaN', 'poi': False, 'long_term_incentive': 'NaN', 'shared_receipt_with_poi': 'NaN', 'restricted_stock': 264013, 'director_fees': 'NaN'}, {'salary': 'NaN', 'to_messages': 2350, 'deferral_payments': 3131860, 'total_payments': 3131860, 'loan_advances': 'NaN', 'bonus': 'NaN', 'email_address': 'stanley.horton@enron.com', 'restricted_stock_deferred': 'NaN', 'deferred_income': 'NaN', 'total_stock_value': 7256648, 'expenses': 'NaN', 'from_poi_to_this_person': 44, 'exercised_stock_options': 5210569, 'from_messages': 1073, 'other': 'NaN', 'from_this_person_to_poi': 15, 'poi': False, 'long_term_incentive': 'NaN', 'shared_receipt_with_poi': 1074, 'restricted_stock': 2046079, 'director_fees': 'NaN'}, {'salary': 278601, 'to_messages': 1858, 'deferral_payments': 'NaN', 'total_payments': 2669589, 'loan_advances': 'NaN', 'bonus': 1350000, 'email_address': 'raymond.bowen@enron.com', 'restricted_stock_deferred': 'NaN', 'deferred_income': -833, 'total_stock_value': 252055, 'expenses': 65907, 'from_poi_to_this_person': 140, 'exercised_stock_options': 'NaN', 'from_messages': 27, 'other': 1621, 'from_this_person_to_poi': 15, 'poi': True, 'long_term_incentive': 974293, 'shared_receipt_with_poi': 1593, 'restricted_stock': 252055, 'director_fees': 'NaN'}, {'salary': 'NaN', 'to_messages': 'NaN', 'deferral_payments': 'NaN', 'total_payments': 'NaN', 'loan_advances': 'NaN', 'bonus': 'NaN', 'email_address': 'NaN', 'restricted_stock_deferred': 'NaN', 'deferred_income': 'NaN', 'total_stock_value': 85641, 'expenses': 'NaN', 'from_poi_to_this_person': 'NaN', 'exercised_stock_options': 9803, 'from_messages': 'NaN', 'other': 'NaN', 'from_this_person_to_poi': 'NaN', 'poi': False, 'long_term_incentive': 'NaN', 'shared_receipt_with_poi': 'NaN', 'restricted_stock': 75838, 'director_fees': 'NaN'}, {'salary': 199157, 'to_messages': 936, 'deferral_payments': 'NaN', 'total_payments': 1414857, 'loan_advances': 'NaN', 'bonus': 350000, 'email_address': 'jay.fitzgerald@enron.com', 'restricted_stock_deferred': 'NaN', 'deferred_income': 'NaN', 'total_stock_value': 1621236, 'expenses': 23870, 'from_poi_to_this_person': 1, 'exercised_stock_options': 664461, 'from_messages': 16, 'other': 285414, 'from_this_person_to_poi': 8, 'poi': False, 'long_term_incentive': 556416, 'shared_receipt_with_poi': 723, 'restricted_stock': 956775, 'director_fees': 'NaN'}, {'salary': 'NaN', 'to_messages': 672, 'deferral_payments': 'NaN', 'total_payments': 'NaN', 'loan_advances': 'NaN', 'bonus': 'NaN', 'email_address': 'michael.moran@enron.com', 'restricted_stock_deferred': 'NaN', 'deferred_income': 'NaN', 'total_stock_value': 221141, 'expenses': 'NaN', 'from_poi_to_this_person': 0, 'exercised_stock_options': 59539, 'from_messages': 19, 'other': 'NaN', 'from_this_person_to_poi': 0, 'poi': False, 'long_term_incentive': 'NaN', 'shared_receipt_with_poi': 127, 'restricted_stock': 161602, 'director_fees': 'NaN'}, {'salary': 96840, 'to_messages': 1671, 'deferral_payments': 'NaN', 'total_payments': 111529, 'loan_advances': 'NaN', 'bonus': 'NaN', 'email_address': 'brian.redmond@enron.com', 'restricted_stock_deferred': 'NaN', 'deferred_income': 'NaN', 'total_stock_value': 7890324, 'expenses': 14689, 'from_poi_to_this_person': 204, 'exercised_stock_options': 7509039, 'from_messages': 221, 'other': 'NaN', 'from_this_person_to_poi': 49, 'poi': False, 'long_term_incentive': 'NaN', 'shared_receipt_with_poi': 1063, 'restricted_stock': 381285, 'director_fees': 'NaN'}, {'salary': 80818, 'to_messages': 'NaN', 'deferral_payments': 684694, 'total_payments': 860136, 'loan_advances': 'NaN', 'bonus': 'NaN', 'email_address': 'NaN', 'restricted_stock_deferred': 'NaN', 'deferred_income': 'NaN', 'total_stock_value': 1599641, 'expenses': 'NaN', 'from_poi_to_this_person': 'NaN', 'exercised_stock_options': 1599641, 'from_messages': 'NaN', 'other': 874, 'from_this_person_to_poi': 'NaN', 'poi': False, 'long_term_incentive': 93750, 'shared_receipt_with_poi': 'NaN', 'restricted_stock': 'NaN', 'director_fees': 'NaN'}, {'salary': 213999, 'to_messages': 7991, 'deferral_payments': 2144013, 'total_payments': 5501630, 'loan_advances': 'NaN', 'bonus': 5249999, 'email_address': 'tim.belden@enron.com', 'restricted_stock_deferred': 'NaN', 'deferred_income': -2334434, 'total_stock_value': 1110705, 'expenses': 17355, 'from_poi_to_this_person': 228, 'exercised_stock_options': 953136, 'from_messages': 484, 'other': 210698, 'from_this_person_to_poi': 108, 'poi': True, 'long_term_incentive': 'NaN', 'shared_receipt_with_poi': 5521, 'restricted_stock': 157569, 'director_fees': 'NaN'}, {'salary': 262788, 'to_messages': 'NaN', 'deferral_payments': 'NaN', 'total_payments': 2368151, 'loan_advances': 'NaN', 'bonus': 1000000, 'email_address': 'richard.dimichele@enron.com', 'restricted_stock_deferred': 'NaN', 'deferred_income': 'NaN', 'total_stock_value': 8317782, 'expenses': 35812, 'from_poi_to_this_person': 'NaN', 'exercised_stock_options': 8191755, 'from_messages': 'NaN', 'other': 374689, 'from_this_person_to_poi': 'NaN', 'poi': False, 'long_term_incentive': 694862, 'shared_receipt_with_poi': 'NaN', 'restricted_stock': 126027, 'director_fees': 'NaN'}, {'salary': 210692, 'to_messages': 904, 'deferral_payments': 'NaN', 'total_payments': 2093263, 'loan_advances': 'NaN', 'bonus': 750000, 'email_address': 'w.duran@enron.com', 'restricted_stock_deferred': 'NaN', 'deferred_income': 'NaN', 'total_stock_value': 1640910, 'expenses': 25785, 'from_poi_to_this_person': 106, 'exercised_stock_options': 1451869, 'from_messages': 12, 'other': 1568, 'from_this_person_to_poi': 3, 'poi': False, 'long_term_incentive': 1105218, 'shared_receipt_with_poi': 599, 'restricted_stock': 189041, 'director_fees': 'NaN'}, {'salary': 222093, 'to_messages': 266, 'deferral_payments': 16586, 'total_payments': 911453, 'loan_advances': 'NaN', 'bonus': 'NaN', 'email_address': 'terence.thorn@enron.com', 'restricted_stock_deferred': 'NaN', 'deferred_income': 'NaN', 'total_stock_value': 4817796, 'expenses': 46145, 'from_poi_to_this_person': 0, 'exercised_stock_options': 4452476, 'from_messages': 41, 'other': 426629, 'from_this_person_to_poi': 0, 'poi': False, 'long_term_incentive': 200000, 'shared_receipt_with_poi': 73, 'restricted_stock': 365320, 'director_fees': 'NaN'}, {'salary': 440698, 'to_messages': 'NaN', 'deferral_payments': 'NaN', 'total_payments': 2424083, 'loan_advances': 'NaN', 'bonus': 1300000, 'email_address': 'andrew.fastow@enron.com', 'restricted_stock_deferred': 'NaN', 'deferred_income': -1386055, 'total_stock_value': 1794412, 'expenses': 55921, 'from_poi_to_this_person': 'NaN', 'exercised_stock_options': 'NaN', 'from_messages': 'NaN', 'other': 277464, 'from_this_person_to_poi': 'NaN', 'poi': True, 'long_term_incentive': 1736055, 'shared_receipt_with_poi': 'NaN', 'restricted_stock': 1794412, 'director_fees': 'NaN'}, {'salary': 'NaN', 'to_messages': 57, 'deferral_payments': 181755, 'total_payments': 181755, 'loan_advances': 'NaN', 'bonus': 'NaN', 'email_address': 'tracy.foy@enron.com', 'restricted_stock_deferred': 'NaN', 'deferred_income': 'NaN', 'total_stock_value': 343434, 'expenses': 'NaN', 'from_poi_to_this_person': 0, 'exercised_stock_options': 343434, 'from_messages': 13, 'other': 'NaN', 'from_this_person_to_poi': 0, 'poi': False, 'long_term_incentive': 'NaN', 'shared_receipt_with_poi': 2, 'restricted_stock': 'NaN', 'director_fees': 'NaN'}, {'salary': 240189, 'to_messages': 2598, 'deferral_payments': 'NaN', 'total_payments': 1639297, 'loan_advances': 'NaN', 'bonus': 1250000, 'email_address': 'christopher.calger@enron.com', 'restricted_stock_deferred': 'NaN', 'deferred_income': -262500, 'total_stock_value': 126027, 'expenses': 35818, 'from_poi_to_this_person': 199, 'exercised_stock_options': 'NaN', 'from_messages': 144, 'other': 486, 'from_this_person_to_poi': 25, 'poi': True, 'long_term_incentive': 375304, 'shared_receipt_with_poi': 2188, 'restricted_stock': 126027, 'director_fees': 'NaN'}, {'salary': 420636, 'to_messages': 905, 'deferral_payments': 'NaN', 'total_payments': 505050, 'loan_advances': 'NaN', 'bonus': 1750000, 'email_address': 'ken.rice@enron.com', 'restricted_stock_deferred': 'NaN', 'deferred_income': -3504386, 'total_stock_value': 22542539, 'expenses': 46950, 'from_poi_to_this_person': 42, 'exercised_stock_options': 19794175, 'from_messages': 18, 'other': 174839, 'from_this_person_to_poi': 4, 'poi': True, 'long_term_incentive': 1617011, 'shared_receipt_with_poi': 864, 'restricted_stock': 2748364, 'director_fees': 'NaN'}, {'salary': 275101, 'to_messages': 4607, 'deferral_payments': 'NaN', 'total_payments': 1086821, 'loan_advances': 'NaN', 'bonus': 400000, 'email_address': 'vince.kaminski@enron.com', 'restricted_stock_deferred': 'NaN', 'deferred_income': 'NaN', 'total_stock_value': 976037, 'expenses': 83585, 'from_poi_to_this_person': 41, 'exercised_stock_options': 850010, 'from_messages': 14368, 'other': 4669, 'from_this_person_to_poi': 171, 'poi': False, 'long_term_incentive': 323466, 'shared_receipt_with_poi': 583, 'restricted_stock': 126027, 'director_fees': 'NaN'}, {'salary': 'NaN', 'to_messages': 'NaN', 'deferral_payments': 'NaN', 'total_payments': 'NaN', 'loan_advances': 'NaN', 'bonus': 'NaN', 'email_address': 'NaN', 'restricted_stock_deferred': 'NaN', 'deferred_income': 'NaN', 'total_stock_value': 'NaN', 'expenses': 'NaN', 'from_poi_to_this_person': 'NaN', 'exercised_stock_options': 'NaN', 'from_messages': 'NaN', 'other': 'NaN', 'from_this_person_to_poi': 'NaN', 'poi': False, 'long_term_incentive': 'NaN', 'shared_receipt_with_poi': 'NaN', 'restricted_stock': 'NaN', 'director_fees': 'NaN'}, {'salary': 314288, 'to_messages': 102, 'deferral_payments': 'NaN', 'total_payments': 1101393, 'loan_advances': 'NaN', 'bonus': 800000, 'email_address': 'chip.cox@enron.com', 'restricted_stock_deferred': 'NaN', 'deferred_income': -41250, 'total_stock_value': 495633, 'expenses': 27861, 'from_poi_to_this_person': 0, 'exercised_stock_options': 117551, 'from_messages': 33, 'other': 494, 'from_this_person_to_poi': 4, 'poi': False, 'long_term_incentive': 'NaN', 'shared_receipt_with_poi': 71, 'restricted_stock': 378082, 'director_fees': 'NaN'}, {'salary': 94941, 'to_messages': 'NaN', 'deferral_payments': 'NaN', 'total_payments': 249787, 'loan_advances': 'NaN', 'bonus': 'NaN', 'email_address': 'jere.overdyke@enron.com', 'restricted_stock_deferred': 'NaN', 'deferred_income': 'NaN', 'total_stock_value': 7307594, 'expenses': 18834, 'from_poi_to_this_person': 'NaN', 'exercised_stock_options': 5266578, 'from_messages': 'NaN', 'other': 176, 'from_this_person_to_poi': 'NaN', 'poi': False, 'long_term_incentive': 135836, 'shared_receipt_with_poi': 'NaN', 'restricted_stock': 2041016, 'director_fees': 'NaN'}, {'salary': 'NaN', 'to_messages': 'NaN', 'deferral_payments': 'NaN', 'total_payments': 27942, 'loan_advances': 'NaN', 'bonus': 'NaN', 'email_address': 'NaN', 'restricted_stock_deferred': 'NaN', 'deferred_income': -101250, 'total_stock_value': 'NaN', 'expenses': 27942, 'from_poi_to_this_person': 'NaN', 'exercised_stock_options': 'NaN', 'from_messages': 'NaN', 'other': 'NaN', 'from_this_person_to_poi': 'NaN', 'poi': False, 'long_term_incentive': 'NaN', 'shared_receipt_with_poi': 'NaN', 'restricted_stock': 'NaN', 'director_fees': 101250}, {'salary': 239502, 'to_messages': 'NaN', 'deferral_payments': 'NaN', 'total_payments': 1112087, 'loan_advances': 'NaN', 'bonus': 500000, 'email_address': 'frank.stabler@enron.com', 'restricted_stock_deferred': 'NaN', 'deferred_income': 'NaN', 'total_stock_value': 511734, 'expenses': 16514, 'from_poi_to_this_person': 'NaN', 'exercised_stock_options': 'NaN', 'from_messages': 'NaN', 'other': 356071, 'from_this_person_to_poi': 'NaN', 'poi': False, 'long_term_incentive': 'NaN', 'shared_receipt_with_poi': 'NaN', 'restricted_stock': 511734, 'director_fees': 'NaN'}, {'salary': 1111258, 'to_messages': 3627, 'deferral_payments': 'NaN', 'total_payments': 8682716, 'loan_advances': 'NaN', 'bonus': 5600000, 'email_address': 'jeff.skilling@enron.com', 'restricted_stock_deferred': 'NaN', 'deferred_income': 'NaN', 'total_stock_value': 26093672, 'expenses': 29336, 'from_poi_to_this_person': 88, 'exercised_stock_options': 19250000, 'from_messages': 108, 'other': 22122, 'from_this_person_to_poi': 30, 'poi': True, 'long_term_incentive': 1920000, 'shared_receipt_with_poi': 2042, 'restricted_stock': 6843672, 'director_fees': 'NaN'}, {'salary': 'NaN', 'to_messages': 'NaN', 'deferral_payments': 'NaN', 'total_payments': 1279, 'loan_advances': 'NaN', 'bonus': 'NaN', 'email_address': 'NaN', 'restricted_stock_deferred': 'NaN', 'deferred_income': -113784, 'total_stock_value': 'NaN', 'expenses': 1279, 'from_poi_to_this_person': 'NaN', 'exercised_stock_options': 'NaN', 'from_messages': 'NaN', 'other': 'NaN', 'from_this_person_to_poi': 'NaN', 'poi': False, 'long_term_incentive': 'NaN', 'shared_receipt_with_poi': 'NaN', 'restricted_stock': 'NaN', 'director_fees': 113784}, {'salary': 'NaN', 'to_messages': 613, 'deferral_payments': 'NaN', 'total_payments': 'NaN', 'loan_advances': 'NaN', 'bonus': 'NaN', 'email_address': 'jeffrey.sherrick@enron.com', 'restricted_stock_deferred': 'NaN', 'deferred_income': 'NaN', 'total_stock_value': 1832468, 'expenses': 'NaN', 'from_poi_to_this_person': 39, 'exercised_stock_options': 1426469, 'from_messages': 25, 'other': 'NaN', 'from_this_person_to_poi': 18, 'poi': False, 'long_term_incentive': 'NaN', 'shared_receipt_with_poi': 583, 'restricted_stock': 405999, 'director_fees': 'NaN'}, {'salary': 'NaN', 'to_messages': 'NaN', 'deferral_payments': 564348, 'total_payments': 564348, 'loan_advances': 'NaN', 'bonus': 'NaN', 'email_address': 'james.prentice@enron.com', 'restricted_stock_deferred': 'NaN', 'deferred_income': 'NaN', 'total_stock_value': 1095040, 'expenses': 'NaN', 'from_poi_to_this_person': 'NaN', 'exercised_stock_options': 886231, 'from_messages': 'NaN', 'other': 'NaN', 'from_this_person_to_poi': 'NaN', 'poi': False, 'long_term_incentive': 'NaN', 'shared_receipt_with_poi': 'NaN', 'restricted_stock': 208809, 'director_fees': 'NaN'}, {'salary': 6615, 'to_messages': 'NaN', 'deferral_payments': 93585, 'total_payments': 1146658, 'loan_advances': 'NaN', 'bonus': 'NaN', 'email_address': 'NaN', 'restricted_stock_deferred': 'NaN', 'deferred_income': 'NaN', 'total_stock_value': 'NaN', 'expenses': 'NaN', 'from_poi_to_this_person': 'NaN', 'exercised_stock_options': 'NaN', 'from_messages': 'NaN', 'other': 680833, 'from_this_person_to_poi': 'NaN', 'poi': False, 'long_term_incentive': 365625, 'shared_receipt_with_poi': 'NaN', 'restricted_stock': 'NaN', 'director_fees': 'NaN'}, {'salary': 'NaN', 'to_messages': 'NaN', 'deferral_payments': 'NaN', 'total_payments': 362096, 'loan_advances': 'NaN', 'bonus': 'NaN', 'email_address': 'NaN', 'restricted_stock_deferred': 'NaN', 'deferred_income': 'NaN', 'total_stock_value': 'NaN', 'expenses': 'NaN', 'from_poi_to_this_person': 'NaN', 'exercised_stock_options': 'NaN', 'from_messages': 'NaN', 'other': 362096, 'from_this_person_to_poi': 'NaN', 'poi': False, 'long_term_incentive': 'NaN', 'shared_receipt_with_poi': 'NaN', 'restricted_stock': 'NaN', 'director_fees': 'NaN'}, {'salary': 288589, 'to_messages': 111, 'deferral_payments': 'NaN', 'total_payments': 1130461, 'loan_advances': 'NaN', 'bonus': 788750, 'email_address': 'adam.umanoff@enron.com', 'restricted_stock_deferred': 'NaN', 'deferred_income': 'NaN', 'total_stock_value': 'NaN', 'expenses': 53122, 'from_poi_to_this_person': 12, 'exercised_stock_options': 'NaN', 'from_messages': 18, 'other': 'NaN', 'from_this_person_to_poi': 0, 'poi': False, 'long_term_incentive': 'NaN', 'shared_receipt_with_poi': 41, 'restricted_stock': 'NaN', 'director_fees': 'NaN'}, {'salary': 404338, 'to_messages': 12754, 'deferral_payments': 'NaN', 'total_payments': 1747522, 'loan_advances': 'NaN', 'bonus': 1000000, 'email_address': 'steven.kean@enron.com', 'restricted_stock_deferred': 'NaN', 'deferred_income': 'NaN', 'total_stock_value': 6153642, 'expenses': 41953, 'from_poi_to_this_person': 140, 'exercised_stock_options': 2022048, 'from_messages': 6759, 'other': 1231, 'from_this_person_to_poi': 387, 'poi': False, 'long_term_incentive': 300000, 'shared_receipt_with_poi': 3639, 'restricted_stock': 4131594, 'director_fees': 'NaN'}, {'salary': 26704229, 'to_messages': 'NaN', 'deferral_payments': 32083396, 'total_payments': 309886585, 'loan_advances': 83925000, 'bonus': 97343619, 'email_address': 'NaN', 'restricted_stock_deferred': -7576788, 'deferred_income': -27992891, 'total_stock_value': 434509511, 'expenses': 5235198, 'from_poi_to_this_person': 'NaN', 'exercised_stock_options': 311764000, 'from_messages': 'NaN', 'other': 42667589, 'from_this_person_to_poi': 'NaN', 'poi': False, 'long_term_incentive': 48521928, 'shared_receipt_with_poi': 'NaN', 'restricted_stock': 130322299, 'director_fees': 1398517}, {'salary': 'NaN', 'to_messages': 517, 'deferral_payments': 'NaN', 'total_payments': 'NaN', 'loan_advances': 'NaN', 'bonus': 'NaN', 'email_address': 'kulvinder.fowler@enron.com', 'restricted_stock_deferred': 'NaN', 'deferred_income': 'NaN', 'total_stock_value': 1884748, 'expenses': 'NaN', 'from_poi_to_this_person': 0, 'exercised_stock_options': 1324578, 'from_messages': 36, 'other': 'NaN', 'from_this_person_to_poi': 0, 'poi': False, 'long_term_incentive': 'NaN', 'shared_receipt_with_poi': 10, 'restricted_stock': 560170, 'director_fees': 'NaN'}, {'salary': 259996, 'to_messages': 400, 'deferral_payments': 831299, 'total_payments': 1034395, 'loan_advances': 'NaN', 'bonus': 325000, 'email_address': 'george.wasaff@enron.com', 'restricted_stock_deferred': 'NaN', 'deferred_income': -583325, 'total_stock_value': 2056427, 'expenses': 'NaN', 'from_poi_to_this_person': 22, 'exercised_stock_options': 1668260, 'from_messages': 30, 'other': 1425, 'from_this_person_to_poi': 7, 'poi': False, 'long_term_incentive': 200000, 'shared_receipt_with_poi': 337, 'restricted_stock': 388167, 'director_fees': 'NaN'}, {'salary': 317543, 'to_messages': 'NaN', 'deferral_payments': 'NaN', 'total_payments': 1934359, 'loan_advances': 'NaN', 'bonus': 450000, 'email_address': 'thomas.white@enron.com', 'restricted_stock_deferred': 'NaN', 'deferred_income': 'NaN', 'total_stock_value': 15144123, 'expenses': 81353, 'from_poi_to_this_person': 'NaN', 'exercised_stock_options': 1297049, 'from_messages': 'NaN', 'other': 1085463, 'from_this_person_to_poi': 'NaN', 'poi': False, 'long_term_incentive': 'NaN', 'shared_receipt_with_poi': 'NaN', 'restricted_stock': 13847074, 'director_fees': 'NaN'}, {'salary': 'NaN', 'to_messages': 'NaN', 'deferral_payments': 'NaN', 'total_payments': 'NaN', 'loan_advances': 'NaN', 'bonus': 'NaN', 'email_address': 'diomedes.christodoulou@enron.com', 'restricted_stock_deferred': 'NaN', 'deferred_income': 'NaN', 'total_stock_value': 6077885, 'expenses': 'NaN', 'from_poi_to_this_person': 'NaN', 'exercised_stock_options': 5127155, 'from_messages': 'NaN', 'other': 'NaN', 'from_this_person_to_poi': 'NaN', 'poi': False, 'long_term_incentive': 'NaN', 'shared_receipt_with_poi': 'NaN', 'restricted_stock': 950730, 'director_fees': 'NaN'}, {'salary': 201955, 'to_messages': 2902, 'deferral_payments': 2869717, 'total_payments': 4484442, 'loan_advances': 'NaN', 'bonus': 4175000, 'email_address': 'phillip.allen@enron.com', 'restricted_stock_deferred': -126027, 'deferred_income': -3081055, 'total_stock_value': 1729541, 'expenses': 13868, 'from_poi_to_this_person': 47, 'exercised_stock_options': 1729541, 'from_messages': 2195, 'other': 152, 'from_this_person_to_poi': 65, 'poi': False, 'long_term_incentive': 304805, 'shared_receipt_with_poi': 1407, 'restricted_stock': 126027, 'director_fees': 'NaN'}, {'salary': 248146, 'to_messages': 3136, 'deferral_payments': 187469, 'total_payments': 1576511, 'loan_advances': 'NaN', 'bonus': 600000, 'email_address': 'vicki.sharp@enron.com', 'restricted_stock_deferred': 'NaN', 'deferred_income': 'NaN', 'total_stock_value': 494136, 'expenses': 116337, 'from_poi_to_this_person': 24, 'exercised_stock_options': 281073, 'from_messages': 136, 'other': 2401, 'from_this_person_to_poi': 6, 'poi': False, 'long_term_incentive': 422158, 'shared_receipt_with_poi': 2477, 'restricted_stock': 213063, 'director_fees': 'NaN'}, {'salary': 'NaN', 'to_messages': 'NaN', 'deferral_payments': 'NaN', 'total_payments': 83750, 'loan_advances': 'NaN', 'bonus': 'NaN', 'email_address': 'NaN', 'restricted_stock_deferred': -44093, 'deferred_income': -25000, 'total_stock_value': 431750, 'expenses': 'NaN', 'from_poi_to_this_person': 'NaN', 'exercised_stock_options': 431750, 'from_messages': 'NaN', 'other': 'NaN', 'from_this_person_to_poi': 'NaN', 'poi': False, 'long_term_incentive': 'NaN', 'shared_receipt_with_poi': 'NaN', 'restricted_stock': 44093, 'director_fees': 108750}, {'salary': 'NaN', 'to_messages': 'NaN', 'deferral_payments': 'NaN', 'total_payments': 84992, 'loan_advances': 'NaN', 'bonus': 'NaN', 'email_address': 'NaN', 'restricted_stock_deferred': 'NaN', 'deferred_income': -25000, 'total_stock_value': 'NaN', 'expenses': 1413, 'from_poi_to_this_person': 'NaN', 'exercised_stock_options': 'NaN', 'from_messages': 'NaN', 'other': 'NaN', 'from_this_person_to_poi': 'NaN', 'poi': False, 'long_term_incentive': 'NaN', 'shared_receipt_with_poi': 'NaN', 'restricted_stock': 'NaN', 'director_fees': 108579}, {'salary': 'NaN', 'to_messages': 1486, 'deferral_payments': 'NaN', 'total_payments': 49288, 'loan_advances': 'NaN', 'bonus': 'NaN', 'email_address': 'michael.brown@enron.com', 'restricted_stock_deferred': 'NaN', 'deferred_income': 'NaN', 'total_stock_value': 'NaN', 'expenses': 49288, 'from_poi_to_this_person': 13, 'exercised_stock_options': 'NaN', 'from_messages': 41, 'other': 'NaN', 'from_this_person_to_poi': 1, 'poi': False, 'long_term_incentive': 'NaN', 'shared_receipt_with_poi': 761, 'restricted_stock': 'NaN', 'director_fees': 'NaN'}, {'salary': 263413, 'to_messages': 1744, 'deferral_payments': 'NaN', 'total_payments': 1318763, 'loan_advances': 'NaN', 'bonus': 900000, 'email_address': 'george.mcclellan@enron.com', 'restricted_stock_deferred': 'NaN', 'deferred_income': -125000, 'total_stock_value': 947861, 'expenses': 228763, 'from_poi_to_this_person': 52, 'exercised_stock_options': 506765, 'from_messages': 49, 'other': 51587, 'from_this_person_to_poi': 0, 'poi': False, 'long_term_incentive': 'NaN', 'shared_receipt_with_poi': 1469, 'restricted_stock': 441096, 'director_fees': 'NaN'}, {'salary': 'NaN', 'to_messages': 719, 'deferral_payments': 'NaN', 'total_payments': 'NaN', 'loan_advances': 'NaN', 'bonus': 'NaN', 'email_address': 'james.hughes@enron.com', 'restricted_stock_deferred': 'NaN', 'deferred_income': 'NaN', 'total_stock_value': 1118394, 'expenses': 'NaN', 'from_poi_to_this_person': 35, 'exercised_stock_options': 754966, 'from_messages': 34, 'other': 'NaN', 'from_this_person_to_poi': 5, 'poi': False, 'long_term_incentive': 'NaN', 'shared_receipt_with_poi': 589, 'restricted_stock': 363428, 'director_fees': 'NaN'}, {'salary': 76399, 'to_messages': 'NaN', 'deferral_payments': 51365, 'total_payments': 394475, 'loan_advances': 'NaN', 'bonus': 100000, 'email_address': 'NaN', 'restricted_stock_deferred': -140264, 'deferred_income': -200000, 'total_stock_value': 4221891, 'expenses': 8409, 'from_poi_to_this_person': 'NaN', 'exercised_stock_options': 4160672, 'from_messages': 'NaN', 'other': 202052, 'from_this_person_to_poi': 'NaN', 'poi': False, 'long_term_incentive': 156250, 'shared_receipt_with_poi': 'NaN', 'restricted_stock': 201483, 'director_fees': 'NaN'}, {'salary': 655037, 'to_messages': 898, 'deferral_payments': 'NaN', 'total_payments': 1386690, 'loan_advances': 400000, 'bonus': 300000, 'email_address': 'mark.pickering@enron.com', 'restricted_stock_deferred': 'NaN', 'deferred_income': 'NaN', 'total_stock_value': 28798, 'expenses': 31653, 'from_poi_to_this_person': 7, 'exercised_stock_options': 28798, 'from_messages': 67, 'other': 'NaN', 'from_this_person_to_poi': 0, 'poi': False, 'long_term_incentive': 'NaN', 'shared_receipt_with_poi': 728, 'restricted_stock': 'NaN', 'director_fees': 'NaN'}, {'salary': 'NaN', 'to_messages': 523, 'total_stock_value': 'NaN', 'deferral_payments': 'NaN', 'total_payments': 15456290, 'loan_advances': 'NaN', 'bonus': 'NaN', 'email_address': 'sanjay.bhatnagar@enron.com', 'restricted_stock_deferred': 15456290, 'deferred_income': 'NaN', 'expenses': 'NaN', 'from_poi_to_this_person': 0, 'exercised_stock_options': 2604490, 'from_messages': 29, 'other': 137864, 'from_this_person_to_poi': 1, 'poi': False, 'long_term_incentive': 'NaN', 'shared_receipt_with_poi': 463, 'restricted_stock': -2604490, 'director_fees': 137864}, {'salary': 261809, 'to_messages': 312, 'deferral_payments': 'NaN', 'total_payments': 477557, 'loan_advances': 'NaN', 'bonus': 300000, 'email_address': 'rebecca.carter@enron.com', 'restricted_stock_deferred': -307301, 'deferred_income': -159792, 'total_stock_value': 'NaN', 'expenses': 'NaN', 'from_poi_to_this_person': 29, 'exercised_stock_options': 'NaN', 'from_messages': 15, 'other': 540, 'from_this_person_to_poi': 7, 'poi': False, 'long_term_incentive': 75000, 'shared_receipt_with_poi': 196, 'restricted_stock': 307301, 'director_fees': 'NaN'}, {'salary': 248017, 'to_messages': 1088, 'deferral_payments': 'NaN', 'total_payments': 1054637, 'loan_advances': 'NaN', 'bonus': 500000, 'email_address': 'john.buchanan@enron.com', 'restricted_stock_deferred': 'NaN', 'deferred_income': 'NaN', 'total_stock_value': 1014505, 'expenses': 600, 'from_poi_to_this_person': 0, 'exercised_stock_options': 825464, 'from_messages': 125, 'other': 1215, 'from_this_person_to_poi': 0, 'poi': False, 'long_term_incentive': 304805, 'shared_receipt_with_poi': 23, 'restricted_stock': 189041, 'director_fees': 'NaN'}, {'salary': 'NaN', 'to_messages': 'NaN', 'deferral_payments': 'NaN', 'total_payments': 55097, 'loan_advances': 'NaN', 'bonus': 'NaN', 'email_address': 'NaN', 'restricted_stock_deferred': 'NaN', 'deferred_income': 'NaN', 'total_stock_value': 192758, 'expenses': 55097, 'from_poi_to_this_person': 'NaN', 'exercised_stock_options': 192758, 'from_messages': 'NaN', 'other': 'NaN', 'from_this_person_to_poi': 'NaN', 'poi': False, 'long_term_incentive': 'NaN', 'shared_receipt_with_poi': 'NaN', 'restricted_stock': 'NaN', 'director_fees': 'NaN'}, {'salary': 229284, 'to_messages': 2192, 'deferral_payments': 'NaN', 'total_payments': 812194, 'loan_advances': 'NaN', 'bonus': 400000, 'email_address': 'julia.murray@enron.com', 'restricted_stock_deferred': 'NaN', 'deferred_income': 'NaN', 'total_stock_value': 597461, 'expenses': 57580, 'from_poi_to_this_person': 11, 'exercised_stock_options': 400478, 'from_messages': 45, 'other': 330, 'from_this_person_to_poi': 2, 'poi': False, 'long_term_incentive': 125000, 'shared_receipt_with_poi': 395, 'restricted_stock': 196983, 'director_fees': 'NaN'}, {'salary': 231946, 'to_messages': 209, 'deferral_payments': 'NaN', 'total_payments': 1566469, 'loan_advances': 'NaN', 'bonus': 850000, 'email_address': 'kevin.garland@enron.com', 'restricted_stock_deferred': 'NaN', 'deferred_income': 'NaN', 'total_stock_value': 896153, 'expenses': 48405, 'from_poi_to_this_person': 10, 'exercised_stock_options': 636246, 'from_messages': 44, 'other': 60814, 'from_this_person_to_poi': 27, 'poi': False, 'long_term_incentive': 375304, 'shared_receipt_with_poi': 178, 'restricted_stock': 259907, 'director_fees': 'NaN'}, {'salary': 221003, 'to_messages': 176, 'deferral_payments': 'NaN', 'total_payments': 319941, 'loan_advances': 'NaN', 'bonus': 70000, 'email_address': 'keith.dodson@enron.com', 'restricted_stock_deferred': 'NaN', 'deferred_income': 'NaN', 'total_stock_value': 'NaN', 'expenses': 28164, 'from_poi_to_this_person': 10, 'exercised_stock_options': 'NaN', 'from_messages': 14, 'other': 774, 'from_this_person_to_poi': 3, 'poi': False, 'long_term_incentive': 'NaN', 'shared_receipt_with_poi': 114, 'restricted_stock': 'NaN', 'director_fees': 'NaN'}, {'salary': 158403, 'to_messages': 'NaN', 'deferral_payments': 'NaN', 'total_payments': 360300, 'loan_advances': 'NaN', 'bonus': 'NaN', 'email_address': 'scott.yeager@enron.com', 'restricted_stock_deferred': 'NaN', 'deferred_income': 'NaN', 'total_stock_value': 11884758, 'expenses': 53947, 'from_poi_to_this_person': 'NaN', 'exercised_stock_options': 8308552, 'from_messages': 'NaN', 'other': 147950, 'from_this_person_to_poi': 'NaN', 'poi': True, 'long_term_incentive': 'NaN', 'shared_receipt_with_poi': 'NaN', 'restricted_stock': 3576206, 'director_fees': 'NaN'}, {'salary': 'NaN', 'to_messages': 'NaN', 'deferral_payments': 10259, 'total_payments': 91093, 'loan_advances': 'NaN', 'bonus': 'NaN', 'email_address': 'joe.hirko@enron.com', 'restricted_stock_deferred': 'NaN', 'deferred_income': 'NaN', 'total_stock_value': 30766064, 'expenses': 77978, 'from_poi_to_this_person': 'NaN', 'exercised_stock_options': 30766064, 'from_messages': 'NaN', 'other': 2856, 'from_this_person_to_poi': 'NaN', 'poi': True, 'long_term_incentive': 'NaN', 'shared_receipt_with_poi': 'NaN', 'restricted_stock': 'NaN', 'director_fees': 'NaN'}, {'salary': 250100, 'to_messages': 2572, 'deferral_payments': 'NaN', 'total_payments': 1410464, 'loan_advances': 'NaN', 'bonus': 600000, 'email_address': 'janet.dietrich@enron.com', 'restricted_stock_deferred': 'NaN', 'deferred_income': 'NaN', 'total_stock_value': 1865087, 'expenses': 3475, 'from_poi_to_this_person': 305, 'exercised_stock_options': 1550019, 'from_messages': 63, 'other': 473, 'from_this_person_to_poi': 14, 'poi': False, 'long_term_incentive': 556416, 'shared_receipt_with_poi': 1902, 'restricted_stock': 315068, 'director_fees': 'NaN'}, {'salary': 492375, 'to_messages': 2181, 'deferral_payments': 'NaN', 'total_payments': 550981, 'loan_advances': 'NaN', 'bonus': 800000, 'email_address': 'james.derrick@enron.com', 'restricted_stock_deferred': -1787380, 'deferred_income': -1284000, 'total_stock_value': 8831913, 'expenses': 51124, 'from_poi_to_this_person': 64, 'exercised_stock_options': 8831913, 'from_messages': 909, 'other': 7482, 'from_this_person_to_poi': 20, 'poi': False, 'long_term_incentive': 484000, 'shared_receipt_with_poi': 1401, 'restricted_stock': 1787380, 'director_fees': 'NaN'}, {'salary': 1060932, 'to_messages': 3275, 'deferral_payments': 6426990, 'total_payments': 17252530, 'loan_advances': 2000000, 'bonus': 2000000, 'email_address': 'mark.frevert@enron.com', 'restricted_stock_deferred': 'NaN', 'deferred_income': -3367011, 'total_stock_value': 14622185, 'expenses': 86987, 'from_poi_to_this_person': 242, 'exercised_stock_options': 10433518, 'from_messages': 21, 'other': 7427621, 'from_this_person_to_poi': 6, 'poi': False, 'long_term_incentive': 1617011, 'shared_receipt_with_poi': 2979, 'restricted_stock': 4188667, 'director_fees': 'NaN'}, {'salary': 261879, 'to_messages': 'NaN', 'deferral_payments': 'NaN', 'total_payments': 3123383, 'loan_advances': 'NaN', 'bonus': 1000000, 'email_address': 'lou.pai@enron.com', 'restricted_stock_deferred': 'NaN', 'deferred_income': 'NaN', 'total_stock_value': 23817930, 'expenses': 32047, 'from_poi_to_this_person': 'NaN', 'exercised_stock_options': 15364167, 'from_messages': 'NaN', 'other': 1829457, 'from_this_person_to_poi': 'NaN', 'poi': False, 'long_term_incentive': 'NaN', 'shared_receipt_with_poi': 'NaN', 'restricted_stock': 8453763, 'director_fees': 'NaN'}, {'salary': 'NaN', 'to_messages': 2649, 'deferral_payments': 'NaN', 'total_payments': 'NaN', 'loan_advances': 'NaN', 'bonus': 'NaN', 'email_address': 'rod.hayslett@enron.com', 'restricted_stock_deferred': 'NaN', 'deferred_income': 'NaN', 'total_stock_value': 346663, 'expenses': 'NaN', 'from_poi_to_this_person': 35, 'exercised_stock_options': 'NaN', 'from_messages': 1061, 'other': 'NaN', 'from_this_person_to_poi': 38, 'poi': False, 'long_term_incentive': 'NaN', 'shared_receipt_with_poi': 571, 'restricted_stock': 346663, 'director_fees': 'NaN'}, {'salary': 239671, 'to_messages': 'NaN', 'deferral_payments': 260455, 'total_payments': 827696, 'loan_advances': 'NaN', 'bonus': 400000, 'email_address': 'frank.bay@enron.com', 'restricted_stock_deferred': -82782, 'deferred_income': -201641, 'total_stock_value': 63014, 'expenses': 129142, 'from_poi_to_this_person': 'NaN', 'exercised_stock_options': 'NaN', 'from_messages': 'NaN', 'other': 69, 'from_this_person_to_poi': 'NaN', 'poi': False, 'long_term_incentive': 'NaN', 'shared_receipt_with_poi': 'NaN', 'restricted_stock': 145796, 'director_fees': 'NaN'}, {'salary': 'NaN', 'to_messages': 1433, 'deferral_payments': 'NaN', 'total_payments': 'NaN', 'loan_advances': 'NaN', 'bonus': 'NaN', 'email_address': 'danny.mccarty@enron.com', 'restricted_stock_deferred': 'NaN', 'deferred_income': 'NaN', 'total_stock_value': 758931, 'expenses': 'NaN', 'from_poi_to_this_person': 25, 'exercised_stock_options': 664375, 'from_messages': 215, 'other': 'NaN', 'from_this_person_to_poi': 2, 'poi': False, 'long_term_incentive': 'NaN', 'shared_receipt_with_poi': 508, 'restricted_stock': 94556, 'director_fees': 'NaN'}, {'salary': 'NaN', 'to_messages': 'NaN', 'deferral_payments': 50591, 'total_payments': 50591, 'loan_advances': 'NaN', 'bonus': 'NaN', 'email_address': 'NaN', 'restricted_stock_deferred': 'NaN', 'deferred_income': 'NaN', 'total_stock_value': 176378, 'expenses': 'NaN', 'from_poi_to_this_person': 'NaN', 'exercised_stock_options': 176378, 'from_messages': 'NaN', 'other': 'NaN', 'from_this_person_to_poi': 'NaN', 'poi': False, 'long_term_incentive': 'NaN', 'shared_receipt_with_poi': 'NaN', 'restricted_stock': 'NaN', 'director_fees': 'NaN'}, {'salary': 'NaN', 'to_messages': 'NaN', 'deferral_payments': 'NaN', 'total_payments': 'NaN', 'loan_advances': 'NaN', 'bonus': 'NaN', 'email_address': 'matthew.scrimshaw@enron.com', 'restricted_stock_deferred': 'NaN', 'deferred_income': 'NaN', 'total_stock_value': 759557, 'expenses': 'NaN', 'from_poi_to_this_person': 'NaN', 'exercised_stock_options': 759557, 'from_messages': 'NaN', 'other': 'NaN', 'from_this_person_to_poi': 'NaN', 'poi': False, 'long_term_incentive': 'NaN', 'shared_receipt_with_poi': 'NaN', 'restricted_stock': 'NaN', 'director_fees': 'NaN'}, {'salary': 309946, 'to_messages': 2374, 'deferral_payments': 'NaN', 'total_payments': 1587421, 'loan_advances': 'NaN', 'bonus': 700000, 'email_address': 'mark.koenig@enron.com', 'restricted_stock_deferred': 'NaN', 'deferred_income': 'NaN', 'total_stock_value': 1920055, 'expenses': 127017, 'from_poi_to_this_person': 53, 'exercised_stock_options': 671737, 'from_messages': 61, 'other': 150458, 'from_this_person_to_poi': 15, 'poi': True, 'long_term_incentive': 300000, 'shared_receipt_with_poi': 2271, 'restricted_stock': 1248318, 'director_fees': 'NaN'}, {'salary': 'NaN', 'to_messages': 'NaN', 'deferral_payments': 'NaN', 'total_payments': 3750, 'loan_advances': 'NaN', 'bonus': 'NaN', 'email_address': 'NaN', 'restricted_stock_deferred': 'NaN', 'deferred_income': -121284, 'total_stock_value': 'NaN', 'expenses': 'NaN', 'from_poi_to_this_person': 'NaN', 'exercised_stock_options': 'NaN', 'from_messages': 'NaN', 'other': 'NaN', 'from_this_person_to_poi': 'NaN', 'poi': False, 'long_term_incentive': 'NaN', 'shared_receipt_with_poi': 'NaN', 'restricted_stock': 'NaN', 'director_fees': 125034}, {'salary': 85274, 'to_messages': 496, 'deferral_payments': 'NaN', 'total_payments': 1979596, 'loan_advances': 'NaN', 'bonus': 'NaN', 'email_address': 'larry.izzo@enron.com', 'restricted_stock_deferred': 'NaN', 'deferred_income': 'NaN', 'total_stock_value': 5819980, 'expenses': 28093, 'from_poi_to_this_person': 28, 'exercised_stock_options': 2165172, 'from_messages': 19, 'other': 1553729, 'from_this_person_to_poi': 5, 'poi': False, 'long_term_incentive': 312500, 'shared_receipt_with_poi': 437, 'restricted_stock': 3654808, 'director_fees': 'NaN'}, {'salary': 247338, 'to_messages': 460, 'deferral_payments': 'NaN', 'total_payments': 399393, 'loan_advances': 'NaN', 'bonus': 300000, 'email_address': 'elizabeth.tilney@enron.com', 'restricted_stock_deferred': 'NaN', 'deferred_income': -575000, 'total_stock_value': 1168042, 'expenses': 'NaN', 'from_poi_to_this_person': 10, 'exercised_stock_options': 591250, 'from_messages': 19, 'other': 152055, 'from_this_person_to_poi': 11, 'poi': False, 'long_term_incentive': 275000, 'shared_receipt_with_poi': 379, 'restricted_stock': 576792, 'director_fees': 'NaN'}, {'salary': 349487, 'to_messages': 1522, 'deferral_payments': 85430, 'total_payments': 8407016, 'loan_advances': 'NaN', 'bonus': 'NaN', 'email_address': 'a..martin@enron.com', 'restricted_stock_deferred': 'NaN', 'deferred_income': 'NaN', 'total_stock_value': 2070306, 'expenses': 8211, 'from_poi_to_this_person': 8, 'exercised_stock_options': 2070306, 'from_messages': 230, 'other': 2818454, 'from_this_person_to_poi': 0, 'poi': False, 'long_term_incentive': 5145434, 'shared_receipt_with_poi': 477, 'restricted_stock': 'NaN', 'director_fees': 'NaN'}, {'salary': 330546, 'to_messages': 3523, 'deferral_payments': 649584, 'total_payments': 2355702, 'loan_advances': 'NaN', 'bonus': 900000, 'email_address': 'rick.buy@enron.com', 'restricted_stock_deferred': 'NaN', 'deferred_income': -694862, 'total_stock_value': 3444470, 'expenses': 'NaN', 'from_poi_to_this_person': 156, 'exercised_stock_options': 2542813, 'from_messages': 1053, 'other': 400572, 'from_this_person_to_poi': 71, 'poi': False, 'long_term_incentive': 769862, 'shared_receipt_with_poi': 2333, 'restricted_stock': 901657, 'director_fees': 'NaN'}, {'salary': 'NaN', 'to_messages': 'NaN', 'deferral_payments': 'NaN', 'total_payments': 119292, 'loan_advances': 'NaN', 'bonus': 'NaN', 'email_address': 'NaN', 'restricted_stock_deferred': 'NaN', 'deferred_income': 'NaN', 'total_stock_value': 'NaN', 'expenses': 'NaN', 'from_poi_to_this_person': 'NaN', 'exercised_stock_options': 'NaN', 'from_messages': 'NaN', 'other': 'NaN', 'from_this_person_to_poi': 'NaN', 'poi': False, 'long_term_incentive': 'NaN', 'shared_receipt_with_poi': 'NaN', 'restricted_stock': 'NaN', 'director_fees': 119292}, {'salary': 415189, 'to_messages': 1892, 'deferral_payments': 'NaN', 'total_payments': 1868758, 'loan_advances': 'NaN', 'bonus': 1000000, 'email_address': 'richard.causey@enron.com', 'restricted_stock_deferred': 'NaN', 'deferred_income': -235000, 'total_stock_value': 2502063, 'expenses': 30674, 'from_poi_to_this_person': 58, 'exercised_stock_options': 'NaN', 'from_messages': 49, 'other': 307895, 'from_this_person_to_poi': 12, 'poi': True, 'long_term_incentive': 350000, 'shared_receipt_with_poi': 1585, 'restricted_stock': 2502063, 'director_fees': 'NaN'}, {'salary': 265214, 'to_messages': 533, 'deferral_payments': 227449, 'total_payments': 1092663, 'loan_advances': 'NaN', 'bonus': 600000, 'email_address': 'mitchell.taylor@enron.com', 'restricted_stock_deferred': 'NaN', 'deferred_income': 'NaN', 'total_stock_value': 3745048, 'expenses': 'NaN', 'from_poi_to_this_person': 0, 'exercised_stock_options': 3181250, 'from_messages': 29, 'other': 'NaN', 'from_this_person_to_poi': 0, 'poi': False, 'long_term_incentive': 'NaN', 'shared_receipt_with_poi': 300, 'restricted_stock': 563798, 'director_fees': 'NaN'}, {'salary': 278601, 'to_messages': 865, 'deferral_payments': 'NaN', 'total_payments': 875760, 'loan_advances': 'NaN', 'bonus': 800000, 'email_address': 'jeff.donahue@enron.com', 'restricted_stock_deferred': 'NaN', 'deferred_income': -300000, 'total_stock_value': 1080988, 'expenses': 96268, 'from_poi_to_this_person': 188, 'exercised_stock_options': 765920, 'from_messages': 22, 'other': 891, 'from_this_person_to_poi': 11, 'poi': False, 'long_term_incentive': 'NaN', 'shared_receipt_with_poi': 772, 'restricted_stock': 315068, 'director_fees': 'NaN'}, {'salary': 274975, 'to_messages': 873, 'deferral_payments': 'NaN', 'total_payments': 1272284, 'loan_advances': 'NaN', 'bonus': 600000, 'email_address': 'ben.glisan@enron.com', 'restricted_stock_deferred': 'NaN', 'deferred_income': 'NaN', 'total_stock_value': 778546, 'expenses': 125978, 'from_poi_to_this_person': 52, 'exercised_stock_options': 384728, 'from_messages': 16, 'other': 200308, 'from_this_person_to_poi': 6, 'poi': True, 'long_term_incentive': 71023, 'shared_receipt_with_poi': 874, 'restricted_stock': 393818, 'director_fees': 'NaN'}])\n"
     ]
    }
   ],
   "source": [
    "print (data_dict.values())"
   ]
  },
  {
   "cell_type": "markdown",
   "metadata": {},
   "source": [
    "Vamos verificar a existencia de Nan's"
   ]
  },
  {
   "cell_type": "code",
   "execution_count": 6,
   "metadata": {},
   "outputs": [],
   "source": [
    "data_nan =  pd.DataFrame.from_records(list(data_dict.values()))"
   ]
  },
  {
   "cell_type": "code",
   "execution_count": 7,
   "metadata": {},
   "outputs": [
    {
     "name": "stdout",
     "output_type": "stream",
     "text": [
      "bonus                         64\n",
      "deferral_payments            107\n",
      "deferred_income               97\n",
      "director_fees                129\n",
      "email_address                 35\n",
      "exercised_stock_options       44\n",
      "expenses                      51\n",
      "from_messages                 60\n",
      "from_poi_to_this_person       60\n",
      "from_this_person_to_poi       60\n",
      "loan_advances                142\n",
      "long_term_incentive           80\n",
      "other                         53\n",
      "poi                            0\n",
      "restricted_stock              36\n",
      "restricted_stock_deferred    128\n",
      "salary                        51\n",
      "shared_receipt_with_poi       60\n",
      "to_messages                   60\n",
      "total_payments                21\n",
      "total_stock_value             20\n",
      "dtype: int64\n",
      "(146, 21)\n"
     ]
    }
   ],
   "source": [
    "data_nan.replace(to_replace='NaN', value=np.nan, inplace=True)\n",
    "\n",
    "print (data_nan.isnull().sum())\n",
    "\n",
    "print (data_nan.shape)\n",
    "# print df.head()"
   ]
  },
  {
   "cell_type": "markdown",
   "metadata": {},
   "source": [
    "Temos 146 registros no arquivo. Desse total, 18 são classificados como pessoas de interesse, o que dá entre 12% a 13% do dataset.\n",
    "\n",
    "Os dados estão classificados como Pessoas de Interesse (POI), 14 recursos financeiros e 6 recursos de e-mail.\n",
    "\n",
    "Podemos ver também que todos os registros possuem valores Nan, sendo que muitos chegam quase ou mais que a metade do dataset."
   ]
  },
  {
   "cell_type": "markdown",
   "metadata": {},
   "source": [
    "#1 - Vamos procurar por Outliers"
   ]
  },
  {
   "cell_type": "code",
   "execution_count": 4,
   "metadata": {},
   "outputs": [
    {
     "data": {
      "text/plain": [
       "Text(0,0.5,'bonus')"
      ]
     },
     "execution_count": 4,
     "metadata": {},
     "output_type": "execute_result"
    },
    {
     "data": {
      "image/png": "[encoded data removed]",
      "text/plain": [
       "<matplotlib.figure.Figure at 0x24564ff8630>"
      ]
     },
     "metadata": {},
     "output_type": "display_data"
    }
   ],
   "source": [
    "features = [\"salary\", \"bonus\"]\n",
    "data = featureFormat(data_dict, features)\n",
    "for point in data:\n",
    "    salary = point[0]\n",
    "    bonus = point[1]\n",
    "    plt.scatter( salary, bonus )\n",
    "\n",
    "plt.xlabel(\"salary\")\n",
    "plt.ylabel(\"bonus\")\n"
   ]
  },
  {
   "cell_type": "code",
   "execution_count": 5,
   "metadata": {},
   "outputs": [
    {
     "data": {
      "text/plain": [
       "['salary', 'bonus']"
      ]
     },
     "execution_count": 5,
     "metadata": {},
     "output_type": "execute_result"
    }
   ],
   "source": [
    "features"
   ]
  },
  {
   "cell_type": "markdown",
   "metadata": {},
   "source": [
    "Ao analisar os valores de Salário e Bonus anual dos executivos, encontramos um valor extremamente discrepante. Vamos analisar os principais valores para ver do que se trata e entender melhor os dados."
   ]
  },
  {
   "cell_type": "code",
   "execution_count": 9,
   "metadata": {},
   "outputs": [
    {
     "name": "stdout",
     "output_type": "stream",
     "text": [
      "[('TOTAL', 26704229), ('SKILLING JEFFREY K', 1111258), ('LAY KENNETH L', 1072321), ('FREVERT MARK A', 1060932), ('PICKERING MARK R', 655037)]\n"
     ]
    }
   ],
   "source": [
    "data_salary= []\n",
    "for key in data_dict:\n",
    "    val = data_dict[key]['salary']\n",
    "    if val == 'NaN':\n",
    "        continue\n",
    "    data_salary.append((key,int(val)))\n",
    "\n",
    "print(sorted(data_salary,key=lambda x:x[1],reverse=True)[:5])\n"
   ]
  },
  {
   "cell_type": "markdown",
   "metadata": {},
   "source": [
    "O valor discrepante é o 'TOTAL'. Como não se trata de nenhum dos executivos, vou removê-lo e verificar novamente o dataset."
   ]
  },
  {
   "cell_type": "code",
   "execution_count": 10,
   "metadata": {},
   "outputs": [
    {
     "data": {
      "text/plain": [
       "{'bonus': 97343619,\n",
       " 'deferral_payments': 32083396,\n",
       " 'deferred_income': -27992891,\n",
       " 'director_fees': 1398517,\n",
       " 'email_address': 'NaN',\n",
       " 'exercised_stock_options': 311764000,\n",
       " 'expenses': 5235198,\n",
       " 'from_messages': 'NaN',\n",
       " 'from_poi_to_this_person': 'NaN',\n",
       " 'from_this_person_to_poi': 'NaN',\n",
       " 'loan_advances': 83925000,\n",
       " 'long_term_incentive': 48521928,\n",
       " 'other': 42667589,\n",
       " 'poi': False,\n",
       " 'restricted_stock': 130322299,\n",
       " 'restricted_stock_deferred': -7576788,\n",
       " 'salary': 26704229,\n",
       " 'shared_receipt_with_poi': 'NaN',\n",
       " 'to_messages': 'NaN',\n",
       " 'total_payments': 309886585,\n",
       " 'total_stock_value': 434509511}"
      ]
     },
     "execution_count": 10,
     "metadata": {},
     "output_type": "execute_result"
    }
   ],
   "source": [
    "data_dict.pop('TOTAL', 0)"
   ]
  },
  {
   "cell_type": "code",
   "execution_count": 11,
   "metadata": {},
   "outputs": [],
   "source": [
    "\n",
    "features = [\"salary\", \"bonus\"]\n",
    "data = featureFormat(data_dict, features)"
   ]
  },
  {
   "cell_type": "code",
   "execution_count": 12,
   "metadata": {},
   "outputs": [
    {
     "data": {
      "text/plain": [
       "Text(0,0.5,'bonus')"
      ]
     },
     "execution_count": 12,
     "metadata": {},
     "output_type": "execute_result"
    },
    {
     "data": {
      "image/png": "[encoded data removed]",
      "text/plain": [
       "<matplotlib.figure.Figure at 0x1e579445e80>"
      ]
     },
     "metadata": {},
     "output_type": "display_data"
    }
   ],
   "source": [
    "for point in data:\n",
    "    salary = point[0]\n",
    "    bonus = point[1]\n",
    "    plt.scatter( salary, bonus )\n",
    "\n",
    "plt.xlabel(\"salary\")\n",
    "plt.ylabel(\"bonus\")\n",
    "\n"
   ]
  },
  {
   "cell_type": "markdown",
   "metadata": {},
   "source": [
    "Agora podemos ver alguns valores bem discrepantes, mas que foram realmente executivos da Enron. "
   ]
  },
  {
   "cell_type": "code",
   "execution_count": 13,
   "metadata": {},
   "outputs": [
    {
     "name": "stdout",
     "output_type": "stream",
     "text": [
      "[('SKILLING JEFFREY K', 1111258), ('LAY KENNETH L', 1072321), ('FREVERT MARK A', 1060932), ('PICKERING MARK R', 655037), ('WHALLEY LAWRENCE G', 510364)]\n"
     ]
    }
   ],
   "source": [
    "data_salary= []\n",
    "for key in data_dict:\n",
    "    val = data_dict[key]['salary']\n",
    "    if val == 'NaN':\n",
    "        continue\n",
    "    data_salary.append((key,int(val)))\n",
    "\n",
    "print(sorted(data_salary,key=lambda x:x[1],reverse=True)[:5])\n"
   ]
  },
  {
   "cell_type": "markdown",
   "metadata": {},
   "source": [
    "Vamos analisar nosso dicionario visualmente, buscando alguma outra informação incorreta além do 'TOTAL'. "
   ]
  },
  {
   "cell_type": "code",
   "execution_count": 14,
   "metadata": {},
   "outputs": [
    {
     "data": {
      "text/plain": [
       "dict_keys(['METTS MARK', 'BAXTER JOHN C', 'ELLIOTT STEVEN', 'CORDES WILLIAM R', 'HANNON KEVIN P', 'MORDAUNT KRISTINA M', 'MEYER ROCKFORD G', 'MCMAHON JEFFREY', 'HAEDICKE MARK E', 'PIPER GREGORY F', 'HUMPHREY GENE E', 'NOLES JAMES L', 'BLACHMAN JEREMY M', 'SUNDE MARTIN', 'GIBBS DANA R', 'LOWRY CHARLES P', 'COLWELL WESLEY', 'MULLER MARK S', 'JACKSON CHARLENE R', 'WESTFAHL RICHARD K', 'WALTERS GARETH W', 'WALLS JR ROBERT H', 'KITCHEN LOUISE', 'CHAN RONNIE', 'BELFER ROBERT', 'SHANKMAN JEFFREY A', 'WODRASKA JOHN', 'BERGSIEKER RICHARD P', 'URQUHART JOHN A', 'BIBI PHILIPPE A', 'RIEKER PAULA H', 'WHALEY DAVID A', 'BECK SALLY W', 'HAUG DAVID L', 'ECHOLS JOHN B', 'MENDELSOHN JOHN', 'HICKERSON GARY J', 'CLINE KENNETH W', 'LEWIS RICHARD', 'HAYES ROBERT E', 'KOPPER MICHAEL J', 'LEFF DANIEL P', 'LAVORATO JOHN J', 'BERBERIAN DAVID', 'DETMERING TIMOTHY J', 'WAKEHAM JOHN', 'POWERS WILLIAM', 'GOLD JOSEPH', 'BANNANTINE JAMES M', 'DUNCAN JOHN H', 'SHAPIRO RICHARD S', 'SHERRIFF JOHN R', 'SHELBY REX', 'LEMAISTRE CHARLES', 'DEFFNER JOSEPH M', 'KISHKILL JOSEPH G', 'WHALLEY LAWRENCE G', 'MCCONNELL MICHAEL S', 'PIRO JIM', 'DELAINEY DAVID W', 'SULLIVAN-SHAKLOVITZ COLLEEN', 'WROBEL BRUCE', 'LINDHOLM TOD A', 'MEYER JEROME J', 'LAY KENNETH L', 'BUTTS ROBERT H', 'OLSON CINDY K', 'MCDONALD REBECCA', 'CUMBERLAND MICHAEL S', 'GAHN ROBERT S', 'BADUM JAMES P', 'HERMANN ROBERT J', 'FALLON JAMES B', 'GATHMANN WILLIAM D', 'HORTON STANLEY C', 'BOWEN JR RAYMOND M', 'GILLIS JOHN', 'FITZGERALD JAY L', 'MORAN MICHAEL P', 'REDMOND BRIAN L', 'BAZELIDES PHILIP J', 'BELDEN TIMOTHY N', 'DIMICHELE RICHARD G', 'DURAN WILLIAM D', 'THORN TERENCE H', 'FASTOW ANDREW S', 'FOY JOE', 'CALGER CHRISTOPHER F', 'RICE KENNETH D', 'KAMINSKI WINCENTY J', 'LOCKHART EUGENE E', 'COX DAVID', 'OVERDYKE JR JERE C', 'PEREIRA PAULO V. FERRAZ', 'STABLER FRANK', 'SKILLING JEFFREY K', 'BLAKE JR. NORMAN P', 'SHERRICK JEFFREY B', 'PRENTICE JAMES', 'GRAY RODNEY', 'THE TRAVEL AGENCY IN THE PARK', 'UMANOFF ADAM S', 'KEAN STEVEN J', 'FOWLER PEGGY', 'WASAFF GEORGE', 'WHITE JR THOMAS E', 'CHRISTODOULOU DIOMEDES', 'ALLEN PHILLIP K', 'SHARP VICTORIA T', 'JAEDICKE ROBERT', 'WINOKUR JR. HERBERT S', 'BROWN MICHAEL', 'MCCLELLAN GEORGE', 'HUGHES JAMES A', 'REYNOLDS LAWRENCE', 'PICKERING MARK R', 'BHATNAGAR SANJAY', 'CARTER REBECCA C', 'BUCHANAN HAROLD G', 'YEAP SOON', 'MURRAY JULIA H', 'GARLAND C KEVIN', 'DODSON KEITH', 'YEAGER F SCOTT', 'HIRKO JOSEPH', 'DIETRICH JANET R', 'DERRICK JR. JAMES V', 'FREVERT MARK A', 'PAI LOU L', 'HAYSLETT RODERICK J', 'BAY FRANKLIN R', 'MCCARTY DANNY J', 'FUGH JOHN L', 'SCRIMSHAW MATTHEW', 'KOENIG MARK E', 'SAVAGE FRANK', 'IZZO LAWRENCE L', 'TILNEY ELIZABETH A', 'MARTIN AMANDA K', 'BUY RICHARD B', 'GRAMM WENDY L', 'CAUSEY RICHARD A', 'TAYLOR MITCHELL S', 'DONAHUE JR JEFFREY M', 'GLISAN JR BEN F'])"
      ]
     },
     "execution_count": 14,
     "metadata": {},
     "output_type": "execute_result"
    }
   ],
   "source": [
    "data_dict.keys()\n"
   ]
  },
  {
   "cell_type": "markdown",
   "metadata": {},
   "source": [
    "Verificando os dados no dicionario, encontramos dois nomes suspeitos que devem ser analisados - THE TRAVEL AGENCY IN THE PARK e 'CHRISTODOULOU DIOMEDES'.\n",
    "O primeiro realmente deve ser cancelado, pois não se trata de uma pessoa.\n",
    "O segundo realmente é uma pessoa. Christodoulou é um nome de origem grega.\n",
    "Desse modo, vamos retirar THE TRAVEL AGENCY IN THE PARK"
   ]
  },
  {
   "cell_type": "code",
   "execution_count": 15,
   "metadata": {},
   "outputs": [
    {
     "data": {
      "text/plain": [
       "{'bonus': 'NaN',\n",
       " 'deferral_payments': 'NaN',\n",
       " 'deferred_income': 'NaN',\n",
       " 'director_fees': 'NaN',\n",
       " 'email_address': 'NaN',\n",
       " 'exercised_stock_options': 'NaN',\n",
       " 'expenses': 'NaN',\n",
       " 'from_messages': 'NaN',\n",
       " 'from_poi_to_this_person': 'NaN',\n",
       " 'from_this_person_to_poi': 'NaN',\n",
       " 'loan_advances': 'NaN',\n",
       " 'long_term_incentive': 'NaN',\n",
       " 'other': 362096,\n",
       " 'poi': False,\n",
       " 'restricted_stock': 'NaN',\n",
       " 'restricted_stock_deferred': 'NaN',\n",
       " 'salary': 'NaN',\n",
       " 'shared_receipt_with_poi': 'NaN',\n",
       " 'to_messages': 'NaN',\n",
       " 'total_payments': 362096,\n",
       " 'total_stock_value': 'NaN'}"
      ]
     },
     "execution_count": 15,
     "metadata": {},
     "output_type": "execute_result"
    }
   ],
   "source": [
    "data_dict.pop('THE TRAVEL AGENCY IN THE PARK', 0)"
   ]
  },
  {
   "cell_type": "markdown",
   "metadata": {},
   "source": [
    "Vamos criar dois novos rotulos para analisar os dados.\n",
    "Como visto em classe e por intuição, vamos usar a fração da quantidade de mensagens enviadas para POI's e a fração de mensagens recebidas de POI's de cada executivo.\n",
    "\n"
   ]
  },
  {
   "cell_type": "code",
   "execution_count": 16,
   "metadata": {},
   "outputs": [],
   "source": [
    "\n",
    "def novo_dict(key,normalizer):\n",
    "    nova_lista=[]\n",
    "    for f in data_dict:\n",
    "        if data_dict[f][key]==\"NaN\" or data_dict[f][normalizer]==\"NaN\":\n",
    "            nova_lista.append(0.)\n",
    "        elif data_dict[f][key]>=0:\n",
    "            nova_lista.append(float(data_dict[f][key])/float(data_dict[f][normalizer]))\n",
    "    return nova_lista\n",
    "\n",
    "### create two lists of new features\n",
    "from_poi_fraction =novo_dict(\"from_poi_to_this_person\",\"to_messages\")\n",
    "to_poi_fraction =novo_dict(\"from_this_person_to_poi\",\"from_messages\")\n",
    "\n",
    "count=0\n",
    "for i in data_dict:\n",
    "    data_dict[i][\"from_poi_fraction\"]=from_poi_fraction[count]\n",
    "    data_dict[i][\"to_poi_fraction\"]=to_poi_fraction[count]\n",
    "    count +=1\n"
   ]
  },
  {
   "cell_type": "code",
   "execution_count": 17,
   "metadata": {},
   "outputs": [],
   "source": [
    "    \n",
    "features_list = [\"poi\", \"from_poi_fraction\", \"to_poi_fraction\"]    \n",
    "    ### store to my_dataset for easy export below\n",
    "my_dataset = data_dict\n",
    "\n",
    "\n",
    "### these two lines extract the features specified in features_list\n",
    "### and extract them from data_dict, returning a numpy array\n",
    "data = featureFormat(data_dict, features_list)\n",
    "\n",
    "### plot new features\n"
   ]
  },
  {
   "cell_type": "code",
   "execution_count": 18,
   "metadata": {},
   "outputs": [
    {
     "data": {
      "image/png": "[encoded data removed]",
      "text/plain": [
       "<matplotlib.figure.Figure at 0x1e57958df98>"
      ]
     },
     "metadata": {},
     "output_type": "display_data"
    }
   ],
   "source": [
    "\n",
    "for point in data:\n",
    "    from_poi = point[1]\n",
    "    to_poi = point[2]\n",
    "    plt.scatter( from_poi, to_poi )\n",
    "    if point[0] == 1:\n",
    "        plt.scatter(from_poi, to_poi, color=\"r\", marker=\"*\")\n",
    "plt.xlabel(\"fraction of emails this person gets from poi\")\n",
    "plt.show()\n",
    "\n",
    "    \n"
   ]
  },
  {
   "cell_type": "markdown",
   "metadata": {},
   "source": [
    "Como pode ser visto no grafico acima, estes rotulos não são muito eficientes sozinhos.\n",
    "Vamos usá-los posteriormente em nossos classificadores para verificar seu valor em um algoritmo preditivo."
   ]
  },
  {
   "cell_type": "markdown",
   "metadata": {},
   "source": [
    "Vamos carregar a features_list novamente com todos os valores e guardar o dataset para facil exportação posterior."
   ]
  },
  {
   "cell_type": "code",
   "execution_count": 39,
   "metadata": {},
   "outputs": [],
   "source": [
    "features_list = ['poi','salary', 'to_messages', 'deferral_payments', 'total_payments', \n",
    "                 'loan_advances', 'bonus', 'restricted_stock_deferred', \n",
    "                 'deferred_income', 'total_stock_value', 'expenses', 'from_poi_to_this_person', \n",
    "                 'exercised_stock_options', 'from_messages', 'other', 'from_this_person_to_poi', \n",
    "                 'long_term_incentive', 'shared_receipt_with_poi', 'restricted_stock', 'director_fees', 'from_poi_fraction', 'to_poi_fraction']"
   ]
  },
  {
   "cell_type": "code",
   "execution_count": 40,
   "metadata": {},
   "outputs": [],
   "source": [
    "\n",
    "my_dataset = data_dict\n",
    "data = featureFormat(data_dict, features_list)"
   ]
  },
  {
   "cell_type": "markdown",
   "metadata": {},
   "source": [
    "Vamos utilizar os classificadores KbestNeighbors, Decision Tree, Gaussian NB e SVM.\n",
    "inicialmente irei testar os classificadores com todas as features, apenas para fins de comparação."
   ]
  },
  {
   "cell_type": "code",
   "execution_count": 41,
   "metadata": {},
   "outputs": [],
   "source": [
    "from sklearn import cross_validation\n",
    "\n",
    "labels, features = targetFeatureSplit(data)\n",
    "\n",
    "features_train, features_test, labels_train, labels_test = cross_validation.train_test_split(features, labels, test_size=0.33, random_state=42)\n"
   ]
  },
  {
   "cell_type": "code",
   "execution_count": 42,
   "metadata": {},
   "outputs": [],
   "source": [
    "from sklearn.tree import DecisionTreeClassifier\n",
    "from sklearn.neighbors import KNeighborsClassifier\n",
    "from sklearn.svm import SVC\n",
    "from sklearn.naive_bayes import GaussianNB\n",
    "from sklearn.metrics import accuracy_score, precision_score, recall_score"
   ]
  },
  {
   "cell_type": "markdown",
   "metadata": {},
   "source": [
    "Estudando novamente as métricas de precision e recall e o classificador SVM, verifiquei que o parametro Average é necessário para destinos multiclasse. Neste caso, classificando como \"average = 'macro'\", as métricas para cada label são calculadas, e encontramos sua média não ponderada. Isso não leva em conta o desequilíbrio do label."
   ]
  },
  {
   "cell_type": "code",
   "execution_count": 43,
   "metadata": {
    "scrolled": true
   },
   "outputs": [
    {
     "name": "stdout",
     "output_type": "stream",
     "text": [
      "acuracia: 0.2916666666666667\n",
      "Precisão: 0.13157894736842105\n",
      "Recall: 0.8333333333333334\n"
     ]
    }
   ],
   "source": [
    "\n",
    "clf = GaussianNB()\n",
    "clf.fit(features_train, labels_train)\n",
    "predictions = clf.predict(features_test)\n",
    "acuracia = accuracy_score(labels_test, predictions)\n",
    "precisao = precision_score(labels_test, predictions)\n",
    "recall = recall_score(labels_test, predictions)\n",
    "\n",
    "\n",
    "print (\"acuracia:\", acuracia)\n",
    "print (\"Precisão:\", precisao)\n",
    "print (\"Recall:\", recall)"
   ]
  },
  {
   "cell_type": "code",
   "execution_count": 44,
   "metadata": {},
   "outputs": [
    {
     "name": "stdout",
     "output_type": "stream",
     "text": [
      "accuracy:  0.8958333333333334\n",
      "precision:  1.0\n",
      "recall:  0.16666666666666666\n"
     ]
    }
   ],
   "source": [
    "clf = KNeighborsClassifier(5)\n",
    "clf.fit(features_train, labels_train)\n",
    "predictions = clf.predict(features_test)\n",
    "acuracia = accuracy_score(labels_test, predictions)\n",
    "precisao = precision_score(labels_test, predictions)\n",
    "recall = recall_score(labels_test, predictions)\n",
    "print (\"accuracy: \",acuracia)\n",
    "print (\"precision: \",precisao)\n",
    "print (\"recall: \",recall)"
   ]
  },
  {
   "cell_type": "code",
   "execution_count": 45,
   "metadata": {},
   "outputs": [
    {
     "name": "stdout",
     "output_type": "stream",
     "text": [
      "accuracy:  0.7291666666666666\n",
      "precision:  0.23076923076923078\n",
      "recall:  0.5\n"
     ]
    }
   ],
   "source": [
    "    clf = DecisionTreeClassifier()\n",
    "clf.fit(features_train, labels_train)\n",
    "predictions = clf.predict(features_test)\n",
    "acuracia = accuracy_score(labels_test, predictions)\n",
    "precisao = precision_score(labels_test, predictions)\n",
    "recall = recall_score(labels_test, predictions)\n",
    "print (\"accuracy: \",acuracia)\n",
    "print (\"precision: \",precisao)\n",
    "print (\"recall: \",recall)"
   ]
  },
  {
   "cell_type": "code",
   "execution_count": 46,
   "metadata": {},
   "outputs": [
    {
     "name": "stdout",
     "output_type": "stream",
     "text": [
      "accuracy:  0.875\n",
      "precision:  0.4375\n",
      "recall:  0.5\n"
     ]
    },
    {
     "name": "stderr",
     "output_type": "stream",
     "text": [
      "C:\\Users\\Samsung\\Anaconda3\\lib\\site-packages\\sklearn\\metrics\\classification.py:1135: UndefinedMetricWarning: Precision is ill-defined and being set to 0.0 in labels with no predicted samples.\n",
      "  'precision', 'predicted', average, warn_for)\n"
     ]
    }
   ],
   "source": [
    "clf = SVC()\n",
    "clf.fit(features_train, labels_train)\n",
    "predictions = clf.predict(features_test)\n",
    "acuracia = accuracy_score(labels_test, predictions)\n",
    "precisao = precision_score(labels_test, predictions, average = 'macro')\n",
    "recall = recall_score(labels_test, predictions, average = 'macro')\n",
    "print (\"accuracy: \",acuracia)\n",
    "print (\"precision: \",precisao)\n",
    "print (\"recall: \",recall)"
   ]
  },
  {
   "cell_type": "markdown",
   "metadata": {},
   "source": [
    "Obtivemos excelentes resultados de acurácia com SVM, KNeighbors e Decision Tree,mas resultados ruins para Precisão e Recall, além de SVM ter recall zero\n",
    "Vamos utilizar o algoritimo Select Kbest para determinar as melhores Features para otimizar as predições e obter melhores resultados de Acuracia, Precisão e Recall."
   ]
  },
  {
   "cell_type": "code",
   "execution_count": 47,
   "metadata": {},
   "outputs": [],
   "source": [
    "def  get_k_best (data_dict, features_list, k):\n",
    "\n",
    "    data_kbest = featureFormat(data_dict, features_list)\n",
    "    k_labels, k_features = targetFeatureSplit(data_kbest)\n",
    "\n",
    "    k_best = SelectKBest(k=k)\n",
    "    k_best.fit(k_features, k_labels)\n",
    "    scores = k_best.scores_\n",
    "    unsorted_pairs = zip(features_list[1:], scores)\n",
    "    sorted_pairs = list(reversed(sorted(unsorted_pairs, key=lambda x: x[1])))\n",
    "    k_best_features = dict(sorted_pairs[:k])\n",
    "    print (\"{0} best features: {1}\\n\".format(k, k_best_features.keys()))\n",
    "    print (k_best_features)\n",
    "    return (k_best_features)"
   ]
  },
  {
   "cell_type": "code",
   "execution_count": 48,
   "metadata": {},
   "outputs": [
    {
     "name": "stdout",
     "output_type": "stream",
     "text": [
      "15 best features: dict_keys(['exercised_stock_options', 'total_stock_value', 'bonus', 'salary', 'to_poi_fraction', 'deferred_income', 'long_term_incentive', 'restricted_stock', 'total_payments', 'shared_receipt_with_poi', 'loan_advances', 'expenses', 'from_poi_to_this_person', 'other', 'from_poi_fraction'])\n",
      "\n",
      "{'exercised_stock_options': 24.815079733218194, 'total_stock_value': 24.18289867856688, 'bonus': 20.792252047181535, 'salary': 18.289684043404513, 'to_poi_fraction': 16.409712548035788, 'deferred_income': 11.458476579280369, 'long_term_incentive': 9.922186013189823, 'restricted_stock': 9.2128106219771, 'total_payments': 8.77277773009168, 'shared_receipt_with_poi': 8.589420731682381, 'loan_advances': 7.184055658288725, 'expenses': 6.094173310638945, 'from_poi_to_this_person': 5.243449713374958, 'other': 4.187477506995375, 'from_poi_fraction': 3.1280917481567263}\n"
     ]
    }
   ],
   "source": [
    "\n",
    "target_label = 'poi'\n",
    "from sklearn.feature_selection import SelectKBest\n",
    "num_features = 15\n",
    "best_features = get_k_best(data_dict, features_list, num_features)\n"
   ]
  },
  {
   "cell_type": "markdown",
   "metadata": {},
   "source": [
    "Selecionei as 15 melhores Features para ter uma melhor noção de quais poderiam ser usadas.\n",
    "Vamos testar os classificadores com as 4 melhores.\n"
   ]
  },
  {
   "cell_type": "code",
   "execution_count": 49,
   "metadata": {},
   "outputs": [],
   "source": [
    "my_dataset = data_dict\n",
    "features_list = ['poi', 'exercised_stock_options', 'total_stock_value', 'bonus', 'salary']\n",
    "data = featureFormat(my_dataset, features_list)\n",
    "\n"
   ]
  },
  {
   "cell_type": "code",
   "execution_count": 50,
   "metadata": {},
   "outputs": [],
   "source": [
    "labels, features = targetFeatureSplit(data)\n",
    "\n",
    "features_train, features_test, labels_train, labels_test = cross_validation.train_test_split(features, labels, test_size=0.33, random_state=42)\n"
   ]
  },
  {
   "cell_type": "code",
   "execution_count": 51,
   "metadata": {},
   "outputs": [
    {
     "name": "stdout",
     "output_type": "stream",
     "text": [
      "acuracia: 0.813953488372093\n",
      "Precisão: 0.3333333333333333\n",
      "Recall: 0.14285714285714285\n"
     ]
    }
   ],
   "source": [
    "from sklearn.naive_bayes import GaussianNB\n",
    "clf = GaussianNB()\n",
    "clf.fit(features_train, labels_train)\n",
    "predictions = clf.predict(features_test)\n",
    "acuracia = accuracy_score(labels_test, predictions)\n",
    "precisao = precision_score(labels_test, predictions)\n",
    "recall = recall_score(labels_test, predictions)\n",
    "\n",
    "print (\"acuracia:\", acuracia)\n",
    "print (\"Precisão:\", precisao)\n",
    "print (\"Recall:\", recall)"
   ]
  },
  {
   "cell_type": "code",
   "execution_count": 52,
   "metadata": {},
   "outputs": [
    {
     "name": "stdout",
     "output_type": "stream",
     "text": [
      "acuracia: 0.8372093023255814\n",
      "Precisão: 0.5\n",
      "Recall: 0.2857142857142857\n"
     ]
    }
   ],
   "source": [
    "clf = KNeighborsClassifier(3)\n",
    "clf.fit(features_train, labels_train)\n",
    "predictions = clf.predict(features_test)\n",
    "acuracia = accuracy_score(labels_test, predictions)\n",
    "precisao = precision_score(labels_test, predictions)\n",
    "recall = recall_score(labels_test, predictions)\n",
    "print (\"acuracia:\", acuracia)\n",
    "print (\"Precisão:\", precisao)\n",
    "print (\"Recall:\", recall)"
   ]
  },
  {
   "cell_type": "code",
   "execution_count": 53,
   "metadata": {},
   "outputs": [
    {
     "name": "stdout",
     "output_type": "stream",
     "text": [
      "acuracia: 0.7674418604651163\n",
      "Precisão: 0.2857142857142857\n",
      "Recall: 0.2857142857142857\n"
     ]
    }
   ],
   "source": [
    "clf = DecisionTreeClassifier()\n",
    "clf.fit(features_train, labels_train)\n",
    "predictions = clf.predict(features_test)\n",
    "acuracia = accuracy_score(labels_test, predictions)\n",
    "precisao = precision_score(labels_test, predictions)\n",
    "recall = recall_score(labels_test, predictions)\n",
    "print (\"acuracia:\", acuracia)\n",
    "print (\"Precisão:\", precisao)\n",
    "print (\"Recall:\", recall)"
   ]
  },
  {
   "cell_type": "code",
   "execution_count": 54,
   "metadata": {},
   "outputs": [
    {
     "name": "stdout",
     "output_type": "stream",
     "text": [
      "acuracia: 0.8372093023255814\n",
      "Precisão: 0.4186046511627907\n",
      "Recall: 0.5\n"
     ]
    },
    {
     "name": "stderr",
     "output_type": "stream",
     "text": [
      "C:\\Users\\Samsung\\Anaconda3\\lib\\site-packages\\sklearn\\metrics\\classification.py:1135: UndefinedMetricWarning: Precision is ill-defined and being set to 0.0 in labels with no predicted samples.\n",
      "  'precision', 'predicted', average, warn_for)\n"
     ]
    }
   ],
   "source": [
    "clf = SVC()\n",
    "clf.fit(features_train, labels_train)\n",
    "predictions = clf.predict(features_test)\n",
    "acuracia = accuracy_score(labels_test, predictions)\n",
    "precisao = precision_score(labels_test, predictions, average = 'macro')\n",
    "recall = recall_score(labels_test, predictions, average = 'macro')\n",
    "print (\"acuracia:\", acuracia)\n",
    "print (\"Precisão:\", precisao)\n",
    "print (\"Recall:\", recall)"
   ]
  },
  {
   "cell_type": "markdown",
   "metadata": {},
   "source": [
    "Os valores de precisao e recall ficaram baixos para todos os classificadores.\n",
    "\n",
    "Usando a intuição, vamos usar outras features e ver se alguma melhora."
   ]
  },
  {
   "cell_type": "code",
   "execution_count": 89,
   "metadata": {},
   "outputs": [],
   "source": [
    "features_list = [ 'poi','salary', 'bonus', 'from_poi_fraction', 'to_poi_fraction']\n",
    "\n",
    "data = featureFormat(my_dataset, features_list)\n",
    "labels, features = targetFeatureSplit(data)\n",
    "\n",
    "features_train, features_test, labels_train, labels_test = cross_validation.train_test_split(features, labels, test_size=0.33, random_state=42)\n"
   ]
  },
  {
   "cell_type": "code",
   "execution_count": 90,
   "metadata": {},
   "outputs": [
    {
     "name": "stdout",
     "output_type": "stream",
     "text": [
      "acuracia: 0.8333333333333334\n",
      "Precisão: 0.3333333333333333\n",
      "Recall: 0.2\n"
     ]
    }
   ],
   "source": [
    "\n",
    "clf = GaussianNB()\n",
    "clf.fit(features_train, labels_train)\n",
    "predictions = clf.predict(features_test)\n",
    "acuracia = accuracy_score(labels_test, predictions)\n",
    "precisao = precision_score(labels_test, predictions)\n",
    "recall = recall_score(labels_test, predictions)\n",
    "print (\"acuracia:\", acuracia)\n",
    "print (\"Precisão:\", precisao)\n",
    "print (\"Recall:\", recall)\n"
   ]
  },
  {
   "cell_type": "code",
   "execution_count": null,
   "metadata": {},
   "outputs": [],
   "source": []
  },
  {
   "cell_type": "code",
   "execution_count": 91,
   "metadata": {},
   "outputs": [
    {
     "name": "stdout",
     "output_type": "stream",
     "text": [
      "acuracia: 0.8611111111111112\n",
      "Precisão: 0.5\n",
      "Recall: 0.2\n"
     ]
    }
   ],
   "source": [
    "clf = KNeighborsClassifier(5)\n",
    "clf.fit(features_train, labels_train)\n",
    "predictions = clf.predict(features_test)\n",
    "acuracia = accuracy_score(labels_test, predictions)\n",
    "precisao = precision_score(labels_test, predictions)\n",
    "recall = recall_score(labels_test, predictions)\n",
    "print (\"acuracia:\", acuracia)\n",
    "print (\"Precisão:\", precisao)\n",
    "print (\"Recall:\", recall)"
   ]
  },
  {
   "cell_type": "code",
   "execution_count": 92,
   "metadata": {},
   "outputs": [
    {
     "name": "stdout",
     "output_type": "stream",
     "text": [
      "acuracia: 0.8333333333333334\n",
      "Precisão: 0.3333333333333333\n",
      "Recall: 0.2\n"
     ]
    }
   ],
   "source": [
    "clf = DecisionTreeClassifier(max_depth=3)\n",
    "clf.fit(features_train, labels_train)\n",
    "predictions = clf.predict(features_test)\n",
    "acuracia = accuracy_score(labels_test, predictions)\n",
    "precisao = precision_score(labels_test, predictions)\n",
    "recall = recall_score(labels_test, predictions)\n",
    "print (\"acuracia:\", acuracia)\n",
    "print (\"Precisão:\", precisao)\n",
    "print (\"Recall:\", recall)"
   ]
  },
  {
   "cell_type": "code",
   "execution_count": 93,
   "metadata": {},
   "outputs": [
    {
     "name": "stdout",
     "output_type": "stream",
     "text": [
      "acuracia: 0.8611111111111112\n",
      "Precisão: 0.4305555555555556\n",
      "Recall: 0.5\n"
     ]
    },
    {
     "name": "stderr",
     "output_type": "stream",
     "text": [
      "C:\\Users\\Samsung\\Anaconda3\\lib\\site-packages\\sklearn\\metrics\\classification.py:1135: UndefinedMetricWarning: Precision is ill-defined and being set to 0.0 in labels with no predicted samples.\n",
      "  'precision', 'predicted', average, warn_for)\n"
     ]
    }
   ],
   "source": [
    "clf = SVC()\n",
    "clf.fit(features_train, labels_train)\n",
    "predictions = clf.predict(features_test)\n",
    "acuracia = accuracy_score(labels_test, predictions)\n",
    "precisao = precision_score(labels_test, predictions, average = 'macro')\n",
    "recall = recall_score(labels_test, predictions, average = 'macro')\n",
    "print (\"acuracia:\", acuracia)\n",
    "print (\"Precisão:\", precisao)\n",
    "print (\"Recall:\", recall)"
   ]
  },
  {
   "cell_type": "markdown",
   "metadata": {},
   "source": [
    "Houve uma ligeira melhora na acuracia, mas uma queda no Recall.\n",
    "Vamos melhorar os parametros dos classificadores SVM e Decision Tree, usando com GridSearchCV, afim de afinar os algoritmos.\n"
   ]
  },
  {
   "cell_type": "code",
   "execution_count": 94,
   "metadata": {},
   "outputs": [
    {
     "name": "stdout",
     "output_type": "stream",
     "text": [
      "{}\n",
      "SVC(C=1.0, cache_size=200, class_weight=None, coef0=0.0,\n",
      "  decision_function_shape='ovr', degree=3, gamma='auto', kernel='rbf',\n",
      "  max_iter=-1, probability=False, random_state=None, shrinking=True,\n",
      "  tol=0.001, verbose=False)\n"
     ]
    }
   ],
   "source": [
    "from sklearn.model_selection import GridSearchCV\n",
    "\n",
    "\n",
    "\n",
    "parameters = {}\n",
    "clf_teste = SVC()\n",
    "clf_teste = GridSearchCV(clf_teste, parameters)\n",
    "clf_teste.fit(features, labels)\n",
    "\n",
    "print (clf_teste.best_params_)\n",
    "print (clf_teste.best_estimator_)"
   ]
  },
  {
   "cell_type": "code",
   "execution_count": 95,
   "metadata": {},
   "outputs": [
    {
     "name": "stdout",
     "output_type": "stream",
     "text": [
      "{}\n",
      "DecisionTreeClassifier(class_weight=None, criterion='gini', max_depth=None,\n",
      "            max_features=None, max_leaf_nodes=None,\n",
      "            min_impurity_decrease=0.0, min_impurity_split=None,\n",
      "            min_samples_leaf=1, min_samples_split=2,\n",
      "            min_weight_fraction_leaf=0.0, presort=False, random_state=None,\n",
      "            splitter='best')\n"
     ]
    }
   ],
   "source": [
    "parameters = {}\n",
    "clf_teste = clf = DecisionTreeClassifier()\n",
    "clf_teste = GridSearchCV(clf_teste, parameters)\n",
    "clf_teste.fit(features, labels)\n",
    "\n",
    "print (clf_teste.best_params_)\n",
    "print (clf_teste.best_estimator_)"
   ]
  },
  {
   "cell_type": "code",
   "execution_count": 96,
   "metadata": {},
   "outputs": [
    {
     "name": "stdout",
     "output_type": "stream",
     "text": [
      "acuracia: 0.8611111111111112\n",
      "Precisão: 0.4305555555555556\n",
      "Recall: 0.5\n"
     ]
    },
    {
     "name": "stderr",
     "output_type": "stream",
     "text": [
      "C:\\Users\\Samsung\\Anaconda3\\lib\\site-packages\\sklearn\\metrics\\classification.py:1135: UndefinedMetricWarning: Precision is ill-defined and being set to 0.0 in labels with no predicted samples.\n",
      "  'precision', 'predicted', average, warn_for)\n"
     ]
    }
   ],
   "source": [
    "clf = SVC(C=1.0, cache_size=200, class_weight=None, coef0=0.0,\n",
    "  decision_function_shape='ovr', degree=3, gamma='auto', kernel='rbf',\n",
    "  max_iter=-1, probability=False, random_state=None, shrinking=True,\n",
    "  tol=0.001, verbose=False)\n",
    "clf.fit(features_train, labels_train)\n",
    "predictions = clf.predict(features_test)\n",
    "acuracia = accuracy_score(labels_test, predictions)\n",
    "precisao = precision_score(labels_test, predictions, average = 'macro')\n",
    "recall = recall_score(labels_test, predictions, average = 'macro')\n",
    "print (\"acuracia:\", acuracia)\n",
    "print (\"Precisão:\", precisao)\n",
    "print (\"Recall:\", recall)"
   ]
  },
  {
   "cell_type": "code",
   "execution_count": 97,
   "metadata": {},
   "outputs": [
    {
     "name": "stdout",
     "output_type": "stream",
     "text": [
      "acuracia: 0.75\n",
      "Precisão: 0.25\n",
      "Recall: 0.4\n"
     ]
    }
   ],
   "source": [
    "clf = DecisionTreeClassifier(class_weight=None, criterion='gini', max_depth=None,\n",
    "            max_features=None, max_leaf_nodes=None,\n",
    "            min_impurity_decrease=0.0, min_impurity_split=None,\n",
    "            min_samples_leaf=1, min_samples_split=2,\n",
    "            min_weight_fraction_leaf=0.0, presort=False, random_state=None,\n",
    "            splitter='best')\n",
    "clf.fit(features_train, labels_train)\n",
    "predictions = clf.predict(features_test)\n",
    "acuracia = accuracy_score(labels_test, predictions)\n",
    "precisao = precision_score(labels_test, predictions)\n",
    "recall = recall_score(labels_test, predictions)\n",
    "print (\"acuracia:\", acuracia)\n",
    "print (\"Precisão:\", precisao)\n",
    "print (\"Recall:\", recall)"
   ]
  },
  {
   "cell_type": "markdown",
   "metadata": {},
   "source": [
    "Tivemos uma boa melhora no Recall.\n",
    "\n",
    "Houve um erro ao executar o SVM, informando que o máximo de iterações foi 100, e o estabelecido era 1000.\n",
    "Sugeriram o uso dos algoritimos StandarScaler e MinMaxScaler.\n",
    "Deste modo, vamos fazer o escalonamento das features implementando o algoritmo MinMaxScaler e testar os classificadores novamente."
   ]
  },
  {
   "cell_type": "code",
   "execution_count": 98,
   "metadata": {},
   "outputs": [],
   "source": [
    "from sklearn.preprocessing import MinMaxScaler\n",
    "scaler = MinMaxScaler()\n",
    "features= scaler.fit_transform(features)"
   ]
  },
  {
   "cell_type": "code",
   "execution_count": 99,
   "metadata": {},
   "outputs": [
    {
     "name": "stdout",
     "output_type": "stream",
     "text": [
      "acuracia: 0.8333333333333334\n",
      "Precisão: 0.3333333333333333\n",
      "Recall: 0.2\n"
     ]
    }
   ],
   "source": [
    "\n",
    "clf = GaussianNB()\n",
    "clf.fit(features_train, labels_train)\n",
    "predictions = clf.predict(features_test)\n",
    "acuracia = accuracy_score(labels_test, predictions)\n",
    "precisao = precision_score(labels_test, predictions)\n",
    "recall = recall_score(labels_test, predictions)\n",
    "print (\"acuracia:\", acuracia)\n",
    "print (\"Precisão:\", precisao)\n",
    "print (\"Recall:\", recall)\n"
   ]
  },
  {
   "cell_type": "code",
   "execution_count": 100,
   "metadata": {},
   "outputs": [
    {
     "name": "stdout",
     "output_type": "stream",
     "text": [
      "acuracia: 0.8611111111111112\n",
      "Precisão: 0.5\n",
      "Recall: 0.2\n"
     ]
    }
   ],
   "source": [
    "clf = KNeighborsClassifier(leaf_size=30, metric='minkowski',\n",
    "           metric_params=None, n_jobs=1, n_neighbors=5, p=5,\n",
    "           weights='uniform')\n",
    "clf.fit(features_train, labels_train)\n",
    "predictions = clf.predict(features_test)\n",
    "acuracia = accuracy_score(labels_test, predictions)\n",
    "precisao = precision_score(labels_test, predictions)\n",
    "recall = recall_score(labels_test, predictions)\n",
    "print (\"acuracia:\", acuracia)\n",
    "print (\"Precisão:\", precisao)\n",
    "print (\"Recall:\", recall)\n"
   ]
  },
  {
   "cell_type": "code",
   "execution_count": 101,
   "metadata": {},
   "outputs": [
    {
     "name": "stdout",
     "output_type": "stream",
     "text": [
      "acuracia: 0.8055555555555556\n",
      "Precisão: 0.375\n",
      "Recall: 0.6\n"
     ]
    }
   ],
   "source": [
    "clf = DecisionTreeClassifier(max_depth=5)\n",
    "clf.fit(features_train, labels_train)\n",
    "predictions = clf.predict(features_test)\n",
    "acuracia = accuracy_score(labels_test, predictions)\n",
    "precisao = precision_score(labels_test, predictions)\n",
    "recall = recall_score(labels_test, predictions)\n",
    "print (\"acuracia:\", acuracia)\n",
    "print (\"Precisão:\", precisao)\n",
    "print (\"Recall:\", recall)"
   ]
  },
  {
   "cell_type": "code",
   "execution_count": 102,
   "metadata": {},
   "outputs": [
    {
     "name": "stdout",
     "output_type": "stream",
     "text": [
      "acuracia: 0.8611111111111112\n",
      "Precisão: 0.4305555555555556\n",
      "Recall: 0.5\n"
     ]
    },
    {
     "name": "stderr",
     "output_type": "stream",
     "text": [
      "C:\\Users\\Samsung\\Anaconda3\\lib\\site-packages\\sklearn\\metrics\\classification.py:1135: UndefinedMetricWarning: Precision is ill-defined and being set to 0.0 in labels with no predicted samples.\n",
      "  'precision', 'predicted', average, warn_for)\n"
     ]
    }
   ],
   "source": [
    "clf = SVC()\n",
    "clf.fit(features_train, labels_train)\n",
    "predictions = clf.predict(features_test)\n",
    "acuracia = accuracy_score(labels_test, predictions)\n",
    "precisao = precision_score(labels_test, predictions, average = 'macro')\n",
    "recall = recall_score(labels_test, predictions, average = 'macro')\n",
    "print (\"acuracia:\", acuracia)\n",
    "print (\"Precisão:\", precisao)\n",
    "print (\"Recall:\", recall)"
   ]
  },
  {
   "cell_type": "markdown",
   "metadata": {},
   "source": [
    "Todos os algoritmos apresentaram uma melhora significativa, sendo o melhor no momento o Kneighbors.\n",
    "Como já usei o GridSearchCV, vou ajustar os parametros dos algoritmos DecisionTree e SVM manualmente, e decidir pelo classificador final.\n"
   ]
  },
  {
   "cell_type": "code",
   "execution_count": 103,
   "metadata": {},
   "outputs": [
    {
     "name": "stdout",
     "output_type": "stream",
     "text": [
      "Acuracia: 0.8888888888888888\n",
      "Precisão: 0.5714285714285714\n",
      "Recall: 0.8\n"
     ]
    }
   ],
   "source": [
    "clf = DecisionTreeClassifier(criterion = 'entropy', min_samples_split= 6, max_depth=5)\n",
    "clf.fit(features_train, labels_train)\n",
    "clf.get_params\n",
    "\n",
    "predictions = clf.predict(features_test)\n",
    "acuracia = accuracy_score(labels_test, predictions)\n",
    "precisao = precision_score(labels_test, predictions)\n",
    "recall = recall_score(labels_test, predictions)\n",
    "print (\"Acuracia:\", acuracia)\n",
    "print (\"Precisão:\", precisao)\n",
    "print (\"Recall:\", recall)"
   ]
  },
  {
   "cell_type": "code",
   "execution_count": 86,
   "metadata": {},
   "outputs": [
    {
     "name": "stdout",
     "output_type": "stream",
     "text": [
      "acuracia: 0.27906976744186046\n",
      "Precisão: 0.14705882352941177\n",
      "Recall: 0.45436507936507936\n"
     ]
    },
    {
     "name": "stderr",
     "output_type": "stream",
     "text": [
      "C:\\Users\\Samsung\\Anaconda3\\lib\\site-packages\\sklearn\\svm\\base.py:218: ConvergenceWarning: Solver terminated early (max_iter=1000).  Consider pre-processing your data with StandardScaler or MinMaxScaler.\n",
      "  % self.max_iter, ConvergenceWarning)\n"
     ]
    }
   ],
   "source": [
    "clf = SVC(max_iter=1000, kernel = 'linear', cache_size=500)\n",
    "clf.fit(features_train, labels_train)\n",
    "predictions = clf.predict(features_test)\n",
    "acuracia = accuracy_score(labels_test, predictions)\n",
    "precisao = precision_score(labels_test, predictions)\n",
    "recall = recall_score(labels_test, predictions,average = 'macro')\n",
    "print (\"acuracia:\", acuracia)\n",
    "print (\"Precisão:\", precisao)\n",
    "print (\"Recall:\", recall)"
   ]
  },
  {
   "cell_type": "markdown",
   "metadata": {},
   "source": [
    "CONCLUSÃO"
   ]
  },
  {
   "cell_type": "markdown",
   "metadata": {},
   "source": [
    "Após testar os classificadores com o algoritmo StratifiedShuffleSplit fornecido para teste, concluimos que o melhor aproveitamento seria com o uso do algoritmo Decision Tree Classifier, com as features e configurações abaixo:\n",
    "\n",
    "Features:  'poi','salary', 'bonus', 'from_poi_fraction', 'to_poi_fraction'\n",
    "Configuração de parametros: criterion = 'entropy', min_samples_split= 6, max_depth=5\n",
    "\n",
    "Apesar do uso dos algoritmos Select Kbest e GridSearchCV serem altamente indicados, obtive melhores resultados ao usar a intuição para escolha de features e estudo e muita tentativa e erro para paramentros.\n",
    "\n",
    "Decision Tree Classifier:\n",
    "\n",
    "Accuracy: 0.76636 - Precision: 0.38024 - Recall: 0.331  - F1: 0.35392   - F2: 0.33980 \n",
    "\n",
    "Total predictions: 11000    \t    \n",
    "True positives:  535   \n",
    "False positives:  960  \n",
    "False negatives: 1465  \n",
    "True negatives: 8040 \t\t\n",
    "\n",
    "\n",
    "Os resultados acima mostram que:\n",
    "\n",
    "Precisão: a probabilidade de que uma pessoa identificada como um POI seja realmente um POI é de 38%, e temos 62% de chances de uma pessoa classificada como POI ser inocente, um falso positivo.\n",
    "\n",
    "Recall: a probabilidade do identificador sinalizar um POI no conjunto de testes é de 33%, e 67% das vezes o POI não seria rotulado.\n",
    "\n",
    "Os resultados estão dentro do minimo esperado, mas não são excelentes.\n",
    "\n",
    "Para melhorar a analise, acredito que deveria analisar mais os dados de email e/ou dados financeiros, talvez criando features com 'total payments', 'stock values' e 'salary', ou analisar os textos para encontrar padrões nas conversas.\n",
    "\n",
    "\n"
   ]
  },
  {
   "cell_type": "code",
   "execution_count": null,
   "metadata": {},
   "outputs": [],
   "source": []
  },
  {
   "cell_type": "code",
   "execution_count": 104,
   "metadata": {
    "scrolled": true
   },
   "outputs": [],
   "source": [
    "dump_classifier_and_data(clf, my_dataset, features_list)"
   ]
  },
  {
   "cell_type": "code",
   "execution_count": 105,
   "metadata": {},
   "outputs": [
    {
     "name": "stdout",
     "output_type": "stream",
     "text": [
      "DecisionTreeClassifier(class_weight=None, criterion='entropy', max_depth=5,\n",
      "            max_features=None, max_leaf_nodes=None,\n",
      "            min_impurity_decrease=0.0, min_impurity_split=None,\n",
      "            min_samples_leaf=1, min_samples_split=6,\n",
      "            min_weight_fraction_leaf=0.0, presort=False, random_state=None,\n",
      "            splitter='best')\n",
      "\tAccuracy: 0.78127\tPrecision: 0.38347\tRecall: 0.33400\tF1: 0.35703\tF2: 0.34285\n",
      "\tTotal predictions: 11000\tTrue positives:  668\tFalse positives: 1074\tFalse negatives: 1332\tTrue negatives: 7926\n",
      "\n"
     ]
    }
   ],
   "source": [
    "#!/usr/bin/python3\n",
    "\n",
    "\"\"\" a basic script for importing student's POI identifier,\n",
    "    and checking the results that they get from it \n",
    " \n",
    "    requires that the algorithm, dataset, and features list\n",
    "    be written to my_classifier.pkl, my_dataset.pkl, and\n",
    "    my_feature_list.pkl, respectively\n",
    "\n",
    "    that process should happen at the end of poi_id.py\n",
    "\"\"\"\n",
    "\n",
    "import pickle\n",
    "import sys\n",
    "from sklearn.metrics import precision_score\n",
    "from sklearn.metrics import recall_score\n",
    "from sklearn.cross_validation import StratifiedShuffleSplit\n",
    "sys.path.append(\"../tools/\")\n",
    "from feature_format import featureFormat, targetFeatureSplit\n",
    "\n",
    "PERF_FORMAT_STRING = \"\\\n",
    "\\tAccuracy: {:>0.{display_precision}f}\\tPrecision: {:>0.{display_precision}f}\\t\\\n",
    "Recall: {:>0.{display_precision}f}\\tF1: {:>0.{display_precision}f}\\tF2: {:>0.{display_precision}f}\"\n",
    "RESULTS_FORMAT_STRING = \"\\tTotal predictions: {:4d}\\tTrue positives: {:4d}\\tFalse positives: {:4d}\\tFalse negatives: {:4d}\\tTrue negatives: {:4d}\"\n",
    "\n",
    "def test_classifier(clf, dataset, feature_list, folds = 1000):\n",
    "    data = featureFormat(dataset, feature_list, sort_keys = True)\n",
    "    labels, features = targetFeatureSplit(data)\n",
    "    cv = StratifiedShuffleSplit(labels, folds, random_state = 42)\n",
    "    true_negatives = 0\n",
    "    false_negatives = 0\n",
    "    true_positives = 0\n",
    "    false_positives = 0\n",
    "    for train_idx, test_idx in cv: \n",
    "        features_train = []\n",
    "        features_test  = []\n",
    "        labels_train   = []\n",
    "        labels_test    = []\n",
    "        for ii in train_idx:\n",
    "            features_train.append( features[ii] )\n",
    "            labels_train.append( labels[ii] )\n",
    "        for jj in test_idx:\n",
    "            features_test.append( features[jj] )\n",
    "            labels_test.append( labels[jj] )\n",
    "        \n",
    "        ### fit the classifier using training set, and test on test set\n",
    "        clf.fit(features_train, labels_train)\n",
    "        predictions = clf.predict(features_test)\n",
    "        for prediction, truth in zip(predictions, labels_test):\n",
    "            if prediction == 0 and truth == 0:\n",
    "                true_negatives += 1\n",
    "            elif prediction == 0 and truth == 1:\n",
    "                false_negatives += 1\n",
    "            elif prediction == 1 and truth == 0:\n",
    "                false_positives += 1\n",
    "            elif prediction == 1 and truth == 1:\n",
    "                true_positives += 1\n",
    "            else:\n",
    "                print(\"Warning: Found a predicted label not == 0 or 1.\")\n",
    "                print(\"All predictions should take value 0 or 1.\")\n",
    "                print(\"Evaluating performance for processed predictions:\")\n",
    "                break\n",
    "    try:\n",
    "        total_predictions = true_negatives + false_negatives + false_positives + true_positives\n",
    "        accuracy = 1.0*(true_positives + true_negatives)/total_predictions\n",
    "        precision = 1.0*true_positives/(true_positives+false_positives)\n",
    "        recall = 1.0*true_positives/(true_positives+false_negatives)\n",
    "        f1 = 2.0 * true_positives/(2*true_positives + false_positives+false_negatives)\n",
    "        f2 = (1+2.0*2.0) * precision*recall/(4*precision + recall)\n",
    "        print(clf)\n",
    "        print(PERF_FORMAT_STRING.format(accuracy, precision, recall, f1, f2, display_precision = 5))\n",
    "        print(RESULTS_FORMAT_STRING.format(total_predictions, true_positives, false_positives, false_negatives, true_negatives))\n",
    "        print(\"\")\n",
    "    except:\n",
    "        print(\"Got a divide by zero when trying out:\", clf)\n",
    "\n",
    "CLF_PICKLE_FILENAME = \"my_classifier.pkl\"\n",
    "DATASET_PICKLE_FILENAME = \"my_dataset.pkl\"\n",
    "FEATURE_LIST_FILENAME = \"my_feature_list.pkl\"\n",
    "\n",
    "def dump_classifier_and_data(clf, dataset, feature_list):\n",
    "    pickle.dump(clf, open(CLF_PICKLE_FILENAME, \"wb\") )\n",
    "    pickle.dump(dataset, open(DATASET_PICKLE_FILENAME, \"wb\") )\n",
    "    pickle.dump(feature_list, open(FEATURE_LIST_FILENAME, \"wb\") )\n",
    "\n",
    "def load_classifier_and_data():\n",
    "    clf = pickle.load(open(CLF_PICKLE_FILENAME, \"rb\") )\n",
    "    dataset = pickle.load(open(DATASET_PICKLE_FILENAME, \"rb\") )\n",
    "    feature_list = pickle.load(open(FEATURE_LIST_FILENAME, \"rb\"))\n",
    "    return clf, dataset, feature_list\n",
    "\n",
    "def main():\n",
    "    ### load up student's classifier, dataset, and feature_list\n",
    "    clf, dataset, feature_list = load_classifier_and_data()\n",
    "    ### Run testing script\n",
    "    test_classifier(clf, dataset, feature_list)\n",
    "\n",
    "if __name__ == '__main__':\n",
    "    main()\n"
   ]
  },
  {
   "cell_type": "code",
   "execution_count": null,
   "metadata": {},
   "outputs": [],
   "source": []
  },
  {
   "cell_type": "code",
   "execution_count": null,
   "metadata": {},
   "outputs": [],
   "source": []
  }
 ],
 "metadata": {
  "kernelspec": {
   "display_name": "Python 3",
   "language": "python",
   "name": "python3"
  },
  "language_info": {
   "codemirror_mode": {
    "name": "ipython",
    "version": 3
   },
   "file_extension": ".py",
   "mimetype": "text/x-python",
   "name": "python",
   "nbconvert_exporter": "python",
   "pygments_lexer": "ipython3",
   "version": "3.6.4"
  }
 },
 "nbformat": 4,
 "nbformat_minor": 2
}
